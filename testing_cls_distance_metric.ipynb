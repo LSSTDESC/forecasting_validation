{
 "cells": [
  {
   "cell_type": "code",
   "metadata": {},
   "source": [
    "import pyccl as ccl\n",
    "print(f\"I am using pyccl version {ccl.__version__}\")\n",
    "import numpy as np\n",
    "import matplotlib.pyplot as plt\n",
    "from scripts.presets import Presets\n",
    "from scripts.data_vectors import DataVectors\n",
    "from scripts.data_vector_metrics import DataVectorMetrics\n",
    "from scripts.power_spectra_analysis import PowerSpectraAnalysis\n",
    "import time\n",
    "import seaborn as sns\n",
    "import cmasher as cmr\n"
   ],
   "outputs": [],
   "execution_count": null
  },
  {
   "metadata": {},
   "cell_type": "code",
   "source": [
    "# Step 1: Initialize your Presets object\n",
    "forecast_year = \"10\"  # or whatever forecast year you want to use\n",
    "presets = Presets(forecast_year=forecast_year, should_save_data=False)\n",
    "\n",
    "# Step 2: Create an instance of PowerSpectraAnalysis with the Presets object\n",
    "analysis = PowerSpectraAnalysis(presets)\n"
   ],
   "outputs": [],
   "execution_count": null
  },
  {
   "metadata": {},
   "cell_type": "markdown",
   "source": "### Step 3: Generate and save the fiducial spectra"
  },
  {
   "metadata": {},
   "cell_type": "code",
   "source": [
    "%%time\n",
    "analysis.compute_fiducial_spectra()"
   ],
   "outputs": [],
   "execution_count": null
  },
  {
   "metadata": {},
   "cell_type": "markdown",
   "source": [
    "### Step 4: Compute the ell sweep power spectra\n",
    "This generates and saves spectra as a function of ell values.\n",
    "Adjust num_ell_values as needed (we are doign the default setting)"
   ]
  },
  {
   "metadata": {},
   "cell_type": "code",
   "source": [
    "%%time\n",
    "#analysis.compute_cls_ell_sweep(num_ell_values=50)  \n"
   ],
   "outputs": [],
   "execution_count": null
  },
  {
   "metadata": {},
   "cell_type": "markdown",
   "source": [
    "### Step 5: Compute the redshift sweep (z sweep) power spectra\n",
    "This generates and saves spectra over a range of z_max and z_resolution values.\n",
    "The values there are the default ones."
   ]
  },
  {
   "metadata": {},
   "cell_type": "code",
   "source": [
    "%%time\n",
    "zet_max_range = np.arange(3, 4.1, 0.1)\n",
    "zet_res_range = np.arange(300, 10050, 50).astype(int)\n",
    "analysis.compute_cls_zres_and_zmax(zet_max_range, zet_res_range)\n"
   ],
   "outputs": [],
   "execution_count": null
  },
  {
   "metadata": {},
   "cell_type": "markdown",
   "source": [
    "### Step 6: Compute the ell sweep distance metric\n",
    "This calculates and saves the delta metric using the ell sweep spectra compared to the fiducial spectra."
   ]
  },
  {
   "metadata": {},
   "cell_type": "code",
   "source": [
    "%%time\n",
    "ell_sweep = analysis.compute_distance_metric_ell_sweep(num_ell_values=50)\n"
   ],
   "outputs": [],
   "execution_count": null
  },
  {
   "metadata": {},
   "cell_type": "markdown",
   "source": [
    "### Step 7: Compute the z sweep distance metric\n",
    "This calculates and saves the delta metric using the z sweep spectra compared to the fiducial spectra."
   ]
  },
  {
   "metadata": {},
   "cell_type": "code",
   "source": [
    "%%time\n",
    "z_sweep = analysis.compute_distance_metric_redshift_sweep(zet_max_range, zet_res_range)\n"
   ],
   "outputs": [],
   "execution_count": null
  },
  {
   "metadata": {},
   "cell_type": "code",
   "source": [
    "cmap = cmr.get_sub_cmap('cmr.pride', 0.15, 0.85)\n",
    "sns.heatmap(z_sweep.T, cmap=cmap)"
   ],
   "outputs": [],
   "execution_count": null
  },
  {
   "metadata": {},
   "cell_type": "code",
   "source": "",
   "outputs": [],
   "execution_count": null
  }
 ],
 "metadata": {
  "kernelspec": {
   "display_name": "Python (fisk)",
   "language": "python",
   "name": "fisk"
  },
  "language_info": {
   "codemirror_mode": {
    "name": "ipython",
    "version": 3
   },
   "file_extension": ".py",
   "mimetype": "text/x-python",
   "name": "python",
   "nbconvert_exporter": "python",
   "pygments_lexer": "ipython3",
   "version": "3.12.5"
  }
 },
 "nbformat": 4,
 "nbformat_minor": 2
}
