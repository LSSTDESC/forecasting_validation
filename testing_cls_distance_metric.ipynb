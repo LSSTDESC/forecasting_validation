{
 "cells": [
  {
   "cell_type": "code",
   "metadata": {
    "ExecuteTime": {
     "end_time": "2024-11-04T02:37:59.217116Z",
     "start_time": "2024-11-04T02:37:59.213494Z"
    }
   },
   "source": [
    "import pyccl as ccl\n",
    "print(f\"I am using pyccl version {ccl.__version__}\")\n",
    "import numpy as np\n",
    "import matplotlib.pyplot as plt\n",
    "from scripts.presets import Presets\n",
    "from scripts.data_vectors import DataVectors\n",
    "from scripts.data_vector_metrics import DataVectorMetrics\n",
    "from scripts.power_spectra_analysis import PowerSpectraAnalysis\n",
    "import time\n",
    "import seaborn as sns\n",
    "import cmasher as cmr\n"
   ],
   "outputs": [
    {
     "name": "stdout",
     "output_type": "stream",
     "text": [
      "I am using pyccl version 2.8.0\n"
     ]
    }
   ],
   "execution_count": 20
  },
  {
   "metadata": {
    "ExecuteTime": {
     "end_time": "2024-11-04T02:25:05.690682Z",
     "start_time": "2024-11-04T02:25:05.676475Z"
    }
   },
   "cell_type": "code",
   "source": [
    "# Step 1: Initialize your Presets object\n",
    "forecast_year = \"1\"  # or whatever forecast year you want to use\n",
    "presets = Presets(forecast_year=forecast_year, should_save_data=False)\n",
    "\n",
    "# Step 2: Create an instance of PowerSpectraAnalysis with the Presets object\n",
    "analysis = PowerSpectraAnalysis(presets)\n"
   ],
   "outputs": [],
   "execution_count": 2
  },
  {
   "metadata": {},
   "cell_type": "markdown",
   "source": "### Step 3: Generate and save the fiducial spectra"
  },
  {
   "metadata": {},
   "cell_type": "code",
   "source": [
    "%%time\n",
    "#analysis.compute_fiducial_spectra()"
   ],
   "outputs": [],
   "execution_count": null
  },
  {
   "metadata": {},
   "cell_type": "markdown",
   "source": [
    "### Step 4: Compute the ell sweep power spectra\n",
    "This generates and saves spectra as a function of ell values.\n",
    "Adjust num_ell_values as needed (we are doign the default setting)"
   ]
  },
  {
   "metadata": {},
   "cell_type": "code",
   "source": [
    "%%time\n",
    "#analysis.compute_cls_ell_sweep(num_ell_values=50)  \n"
   ],
   "outputs": [],
   "execution_count": null
  },
  {
   "metadata": {},
   "cell_type": "code",
   "source": [
    "path = \"data_output/spectra_sweep/spectra_y1/cls/ellscan/\"\n",
    "ell = np.load(f\"{path}cl_cs_y1_ell22.npy\")\n",
    "ell"
   ],
   "outputs": [],
   "execution_count": null
  },
  {
   "metadata": {},
   "cell_type": "markdown",
   "source": [
    "### Step 5: Compute the redshift sweep (z sweep) power spectra\n",
    "This generates and saves spectra over a range of z_max and z_resolution values.\n",
    "The values there are the default ones."
   ]
  },
  {
   "metadata": {
    "ExecuteTime": {
     "end_time": "2024-11-04T02:26:17.076795Z",
     "start_time": "2024-11-04T02:26:17.072152Z"
    }
   },
   "cell_type": "code",
   "source": [
    "%%time\n",
    "zet_max_range = np.arange(3, 4.1, 0.1)\n",
    "zet_res_range = np.arange(300, 10050, 50).astype(int)\n",
    "#analysis.compute_cls_zres_and_zmax(zet_max_range, zet_res_range)\n"
   ],
   "outputs": [
    {
     "name": "stdout",
     "output_type": "stream",
     "text": [
      "CPU times: user 40 µs, sys: 55 µs, total: 95 µs\n",
      "Wall time: 79.2 µs\n"
     ]
    }
   ],
   "execution_count": 7
  },
  {
   "metadata": {},
   "cell_type": "markdown",
   "source": [
    "### Step 6: Compute the ell sweep distance metric\n",
    "This calculates and saves the delta metric using the ell sweep spectra compared to the fiducial spectra."
   ]
  },
  {
   "metadata": {
    "ExecuteTime": {
     "end_time": "2024-11-04T02:33:00.267275Z",
     "start_time": "2024-11-04T02:32:59.829513Z"
    }
   },
   "cell_type": "code",
   "source": [
    "%%time\n",
    "ell_sweep = analysis.compute_distance_metric_ell_sweep(num_ell_values=50)\n"
   ],
   "outputs": [
    {
     "name": "stdout",
     "output_type": "stream",
     "text": [
      "Loaded fiducial spectra for chi-squared reference\n",
      "Processed ell=20 with delta chi-squared: 0.0\n",
      "Processed ell=21 with delta chi-squared: 101.3924729082235\n",
      "Processed ell=24 with delta chi-squared: 2075.991200514426\n",
      "Processed ell=26 with delta chi-squared: 5483.371257893322\n",
      "Processed ell=29 with delta chi-squared: 15432.871912441426\n",
      "Processed ell=31 with delta chi-squared: 26341.11752915529\n",
      "Processed ell=35 with delta chi-squared: 60989.39767330157\n",
      "Processed ell=38 with delta chi-squared: 99823.35188141445\n",
      "Processed ell=42 with delta chi-squared: 168235.30381748156\n",
      "Processed ell=46 with delta chi-squared: 254002.47632647346\n",
      "Processed ell=51 with delta chi-squared: 379389.24891829025\n",
      "Processed ell=56 with delta chi-squared: 520971.6102214888\n",
      "Processed ell=61 with delta chi-squared: 674077.0309515857\n",
      "Processed ell=67 with delta chi-squared: 861862.8341553765\n",
      "Processed ell=74 with delta chi-squared: 1071103.4287407326\n",
      "Processed ell=81 with delta chi-squared: 1262254.788376987\n",
      "Processed ell=89 with delta chi-squared: 1459660.8950089128\n",
      "Processed ell=98 with delta chi-squared: 1660387.8530266823\n",
      "Processed ell=108 with delta chi-squared: 1862751.919175577\n",
      "Processed ell=119 with delta chi-squared: 2064558.1286771318\n",
      "Processed ell=131 with delta chi-squared: 2262726.9255845277\n",
      "Processed ell=143 with delta chi-squared: 2440065.334632847\n",
      "Processed ell=158 with delta chi-squared: 2635453.9065122893\n",
      "Processed ell=173 with delta chi-squared: 2805220.4465196216\n",
      "Processed ell=190 with delta chi-squared: 2971250.4484047387\n",
      "Processed ell=209 with delta chi-squared: 3129192.8150066817\n",
      "Processed ell=230 with delta chi-squared: 3276237.2198455287\n",
      "Processed ell=252 with delta chi-squared: 3405534.105678098\n",
      "Processed ell=277 with delta chi-squared: 3528278.5622142586\n",
      "Processed ell=305 with delta chi-squared: 3642037.864037743\n",
      "Processed ell=335 with delta chi-squared: 3742583.946707541\n",
      "Processed ell=368 with delta chi-squared: 3833785.017994871\n",
      "Processed ell=404 with delta chi-squared: 3915683.9881997155\n",
      "Processed ell=444 with delta chi-squared: 3990439.7274498222\n",
      "Processed ell=488 with delta chi-squared: 4057834.930291024\n",
      "Processed ell=536 with delta chi-squared: 4118083.5728953164\n",
      "Processed ell=589 with delta chi-squared: 4172589.6228469415\n",
      "Processed ell=647 with delta chi-squared: 4221453.838432584\n",
      "Processed ell=711 with delta chi-squared: 4265618.40338854\n",
      "Processed ell=781 with delta chi-squared: 4305189.872132387\n",
      "Processed ell=858 with delta chi-squared: 4340869.378497587\n",
      "Processed ell=942 with delta chi-squared: 4372803.264384993\n",
      "Processed ell=1035 with delta chi-squared: 4401819.373925313\n",
      "Processed ell=1137 with delta chi-squared: 4427934.415788919\n",
      "Processed ell=1250 with delta chi-squared: 4451673.322310488\n",
      "Processed ell=1373 with delta chi-squared: 4472889.609782198\n",
      "Processed ell=1508 with delta chi-squared: 4492038.479887215\n",
      "Processed ell=1657 with delta chi-squared: 4509420.144615258\n",
      "Processed ell=1820 with delta chi-squared: 4525065.251561481\n",
      "Processed ell=2000 with delta chi-squared: 4539285.798137088\n",
      "Saved delta chi-squared results for ell sweep: data_output/metric/ellscan/delta_ell_sweep_y1.npy\n",
      "CPU times: user 1.99 s, sys: 225 ms, total: 2.22 s\n",
      "Wall time: 432 ms\n"
     ]
    }
   ],
   "execution_count": 12
  },
  {
   "metadata": {},
   "cell_type": "markdown",
   "source": [
    "### Step 7: Compute the z sweep distance metric\n",
    "This calculates and saves the delta metric using the z sweep spectra compared to the fiducial spectra."
   ]
  },
  {
   "metadata": {
    "ExecuteTime": {
     "end_time": "2024-11-04T02:33:35.608901Z",
     "start_time": "2024-11-04T02:33:21.668599Z"
    }
   },
   "cell_type": "code",
   "source": [
    "%%time\n",
    "z_sweep = analysis.compute_distance_metric_redshift_sweep(zet_max_range, zet_res_range)\n"
   ],
   "outputs": [
    {
     "name": "stdout",
     "output_type": "stream",
     "text": [
      "Loaded fiducial spectra from:\n",
      "data_output/spectra_sweep/spectra_y1/fiducial/cl_gc_fiducial_y1.npy\n",
      "data_output/spectra_sweep/spectra_y1/fiducial/cl_ggl_fiducial_y1.npy\n",
      "data_output/spectra_sweep/spectra_y1/fiducial/cl_cs_fiducial_y1.npy\n",
      "Saved delta results for zres and zmax sweep: data_output/metric/zscan/delta_sweep_zres_zmax_y1.npy\n",
      "CPU times: user 1min 23s, sys: 6.12 s, total: 1min 29s\n",
      "Wall time: 13.9 s\n"
     ]
    }
   ],
   "execution_count": 14
  },
  {
   "metadata": {
    "ExecuteTime": {
     "end_time": "2024-11-04T02:39:22.346742Z",
     "start_time": "2024-11-04T02:39:21.936247Z"
    }
   },
   "cell_type": "code",
   "source": [
    "cmap = cmr.get_sub_cmap('cmr.pride', 0.15, 0.85)\n",
    "sns.heatmap(z_sweep.T, cmap=cmap)"
   ],
   "outputs": [
    {
     "data": {
      "text/plain": [
       "<Axes: >"
      ]
     },
     "execution_count": 22,
     "metadata": {},
     "output_type": "execute_result"
    },
    {
     "data": {
      "text/plain": [
       "<Figure size 640x480 with 2 Axes>"
      ],
      "image/png": "[encoded data removed]"
     },
     "metadata": {},
     "output_type": "display_data"
    }
   ],
   "execution_count": 22
  },
  {
   "metadata": {},
   "cell_type": "code",
   "source": "",
   "outputs": [],
   "execution_count": null
  },
  {
   "cell_type": "code",
   "metadata": {},
   "source": [
    "# This analysis will be done for a cosmology with the following parameters\n",
    "# if you want to change the cosmology, you can do it here or just run without it.\n",
    "# For now, we will keep it as is.\n",
    "#cosmo = ccl.Cosmology(Omega_c=0.27, Omega_b=0.045, h=0.67, sigma8=0.83, n_s=0.96)\n",
    "\n",
    "# The class has default values for the maximal redshift and the resolution of redshifts.\n",
    "# You can change them if you want to or run the default values.\n",
    "# Since we are investigating the impact of the resolution of redshifts,\n",
    "# we will keep the maximal redshift as is (for now) and only change the redshift resolution.\n",
    "redshift_max = 3.5\n",
    "redshift_resolution_1 = 300  # this is the first resolution of redshifts\n",
    "redshift_resolution_2 = 5000  # this is the second resolution of redshifts\n",
    "# Please note that the redshift resolution is the number of redshifts between 0 and redshift_max.\n",
    "# Additionally, a lot of parametric sweeping is already coded into helper functions \n",
    "# so we will not need to worry about that for now.\n",
    "\n",
    "# We will also investigate ell binning but for this particular exercise,\n",
    "# we will keep the ell binning at default values.\n",
    "#ell_min = 20\n",
    "#ell_max = 2000\n",
    "#n_ell = 50\n"
   ],
   "outputs": [],
   "execution_count": null
  },
  {
   "metadata": {},
   "cell_type": "markdown",
   "source": "niko\n"
  },
  {
   "metadata": {},
   "cell_type": "code",
   "source": [
    "%%time\n",
    "start_time = time.time()\n",
    "# This is the fiducial\n",
    "forecast_year = \"1\"\n",
    "presets = Presets(forecast_year=forecast_year, should_save_data=False)\n",
    "data = DataVectors(presets)\n",
    "cl_gc = np.array(data.galaxy_clustering_cls(include_all_correlations=True))\n",
    "cl_ggl = np.array(data.galaxy_galaxy_lensing_cls(include_all_correlations=True))\n",
    "cl_cs = np.array(data.cosmic_shear_cls(include_all_correlations=True))\n",
    "single_iteration_time = time.time() - start_time\n",
    "\n",
    "# Estimate total time\n",
    "total_time_estimate = single_iteration_time * 2156\n",
    "print(f\"Estimated total runtime: {total_time_estimate / 60:.2f} minutes\")\n",
    "\n",
    "# Set up the range for z_max and z_resolution based on your new requirements\n",
    "zet_max = np.arange(3, 4.1, 0.1)  # Range from 3 to 4, in increments of 0.1\n",
    "zet_res = np.arange(300, 10050, 50).astype(int)  # Range from 300 to 10000 in increments of 50, cast to int\n",
    "\n",
    "# Initialize chi2 array to match the new grid dimensions\n",
    "chi2 = np.zeros((len(zet_max), len(zet_res)))\n",
    "\n",
    "# Loop over the parameter grid\n",
    "for i_max, val_max in enumerate(zet_max):\n",
    "    for i_res, val_res in enumerate(zet_res):\n",
    "        presets_1 = Presets(redshift_max=val_max,\n",
    "                            redshift_resolution=val_res,\n",
    "                            forecast_year=forecast_year,\n",
    "                            should_save_data=False)\n",
    "\n",
    "        data_1 = DataVectors(presets_1)\n",
    "        cl_gc_1 = np.array(data_1.galaxy_clustering_cls(include_all_correlations=True))\n",
    "        cl_ggl_1 = np.array(data_1.galaxy_galaxy_lensing_cls(include_all_correlations=True))\n",
    "        cl_cs_1 = np.array(data_1.cosmic_shear_cls(include_all_correlations=True))\n",
    "\n",
    "        metric = DataVectorMetrics(presets)\n",
    "        chi2[i_max, i_res] = metric.get_delta_chi2(cl_gc, cl_ggl, cl_cs, cl_gc_1, cl_ggl_1, cl_cs_1)\n",
    "\n",
    "# Save the result\n",
    "fname = \"./data_output/chi2/chi2_sweep_zres_zmax_y\" + forecast_year\n",
    "np.savez(fname, zet_res=zet_res, zet_max=zet_max, chi2=chi2)\n"
   ],
   "outputs": [],
   "execution_count": null
  },
  {
   "metadata": {},
   "cell_type": "code",
   "source": "",
   "outputs": [],
   "execution_count": null
  },
  {
   "metadata": {},
   "cell_type": "code",
   "source": [
    "# This is the fiducial setup\n",
    "forecast_year = \"1\"\n",
    "presets = Presets(forecast_year=forecast_year, should_save_data=False)\n",
    "data = DataVectors(presets)\n",
    "cl_gc = data.galaxy_clustering_cls(include_all_correlations=True)\n",
    "cl_ggl = data.galaxy_galaxy_lensing_cls(include_all_correlations=True)\n",
    "cl_cs = data.cosmic_shear_cls(include_all_correlations=True)\n",
    "\n",
    "# Calculate fiducial chi-squared difference with a zero baseline\n",
    "metric = DataVectorMetrics(presets)\n",
    "zero_gc = np.zeros_like(cl_gc)\n",
    "zero_ggl = np.zeros_like(cl_ggl)\n",
    "zero_cs = np.zeros_like(cl_cs)\n",
    "chi2_fid = metric.get_delta_chi2(cl_gc, cl_ggl, cl_cs, zero_gc, zero_ggl, zero_cs)\n",
    "\n",
    "# Define the range of ell modes and initialize the chi-squared storage array\n",
    "N = 50\n",
    "number_ell = np.geomspace(20., presets.ell_max, N).astype(int)\n",
    "chi2_y1 = np.zeros(N)\n",
    "\n",
    "# Sweep over different ell modes and calculate chi-squared differences\n",
    "for i_ell, val_ell in enumerate(number_ell):\n",
    "    presets_1 = Presets(ell_num=val_ell, should_save_data=False)\n",
    "    data_1 = DataVectors(presets_1)\n",
    "\n",
    "    # Get power spectra for the current ell setting\n",
    "    cl_gc_1 = data_1.galaxy_clustering_cls(include_all_correlations=True)\n",
    "    cl_ggl_1 = data_1.galaxy_galaxy_lensing_cls(include_all_correlations=True)\n",
    "    cl_cs_1 = data_1.cosmic_shear_cls(include_all_correlations=True)\n",
    "\n",
    "    # Calculate chi-squared difference and normalize\n",
    "    chi2_y1[i_ell] = abs((metric.get_delta_chi2(cl_gc_1, cl_ggl_1, cl_cs_1, zero_gc, zero_ggl, zero_cs) - chi2_fid) / chi2_fid)\n",
    "\n",
    "# Save the result\n",
    "file = \"./data_output/chi2/chi2_number_ell_y\" + forecast_year\n",
    "np.savez(file, number_ell=number_ell, chi2_y1=chi2_y1)\n"
   ],
   "outputs": [],
   "execution_count": null
  },
  {
   "metadata": {},
   "cell_type": "code",
   "source": [
    "# This is the fiducial setup\n",
    "forecast_year = \"10\"\n",
    "presets = Presets(forecast_year=forecast_year, should_save_data=False)\n",
    "data = DataVectors(presets)\n",
    "cl_gc = data.galaxy_clustering_cls(include_all_correlations=True)\n",
    "cl_ggl = data.galaxy_galaxy_lensing_cls(include_all_correlations=True)\n",
    "cl_cs = data.cosmic_shear_cls(include_all_correlations=True)\n",
    "\n",
    "# Calculate fiducial chi-squared difference with a zero baseline\n",
    "metric = DataVectorMetrics(presets)\n",
    "zero_gc = np.zeros_like(cl_gc)\n",
    "zero_ggl = np.zeros_like(cl_ggl)\n",
    "zero_cs = np.zeros_like(cl_cs)\n",
    "chi2_fid = metric.get_delta_chi2(cl_gc, cl_ggl, cl_cs, zero_gc, zero_ggl, zero_cs)\n",
    "\n",
    "# Define the range of ell modes and initialize the chi-squared storage array\n",
    "N = 50\n",
    "number_ell = np.geomspace(20., presets.ell_max, N).astype(int)\n",
    "chi2_y1 = np.zeros(N)\n",
    "\n",
    "# Sweep over different ell modes and calculate chi-squared differences\n",
    "for i_ell, val_ell in enumerate(number_ell):\n",
    "    presets_1 = Presets(ell_num=val_ell, should_save_data=False)\n",
    "    data_1 = DataVectors(presets_1)\n",
    "\n",
    "    # Get power spectra for the current ell setting\n",
    "    cl_gc_1 = data_1.galaxy_clustering_cls(include_all_correlations=True)\n",
    "    cl_ggl_1 = data_1.galaxy_galaxy_lensing_cls(include_all_correlations=True)\n",
    "    cl_cs_1 = data_1.cosmic_shear_cls(include_all_correlations=True)\n",
    "\n",
    "    # Calculate chi-squared difference and normalize\n",
    "    chi2_y1[i_ell] = abs((metric.get_delta_chi2(cl_gc_1, cl_ggl_1, cl_cs_1, zero_gc, zero_ggl, zero_cs) - chi2_fid) / chi2_fid)\n",
    "\n",
    "# Save the result\n",
    "file = \"./data_output/chi2/chi2_number_ell_y\" + forecast_year\n",
    "np.savez(file, number_ell=number_ell, chi2_y1=chi2_y1)\n"
   ],
   "outputs": [],
   "execution_count": null
  },
  {
   "cell_type": "code",
   "metadata": {},
   "source": [
    "from matplotlib import cm, ticker\n",
    "\n",
    "fontsi = 20\n",
    "fontsi2 = 20\n",
    "\n",
    "\n",
    "fig = plt.figure()\n",
    "ax = fig.add_subplot()\n",
    "plt.rc('text', usetex=True)\n",
    "\n",
    "\n",
    "CS = plt.contourf(zet_max,zet_res,chi2.T,cmap = \"cividis\")#,  locator=ticker.LogLocator())\n",
    "cb = plt.colorbar(CS)\n",
    "plt.xlabel(r\"$z_\\mathrm{max}$\", fontsize = fontsi)\n",
    "plt.ylabel(r\"$N_z$\", fontsize = fontsi)\n",
    "cb.set_label(r'$\\Delta\\chi^2$', fontsize=fontsi)\n",
    "plt.tick_params(labelsize=fontsi2)\n",
    "\n",
    "#plt.xscale(\"log\")\n",
    "#plt.yscale(\"log\")\n",
    "\n",
    "for t in cb.ax.get_yticklabels():\n",
    "    t.set_fontsize(fontsi2)\n",
    "plt.tight_layout()\n",
    "fname = \"./plots_output/chi2_zet_params_y\" + forecast_year + \".pdf\"\n",
    "plt.savefig(fname)\n"
   ],
   "outputs": [],
   "execution_count": null
  },
  {
   "cell_type": "code",
   "metadata": {},
   "source": [
    "forecast_year = \"10\"\n",
    "presets = Presets(forecast_year=forecast_year, should_save_data=False)\n",
    "data = DataVectors(presets)\n",
    "cl_gc = np.array(data.galaxy_clustering_cls(include_all_correlations=True))\n",
    "cl_ggl = np.array(data.galaxy_galaxy_lensing_cls(include_all_correlations=True))\n",
    "cl_cs = np.array(data.cosmic_shear_cls(include_all_correlations=True))\n",
    "\n",
    "\n",
    "N = 25\n",
    "zet_max = np.linspace(3.,5,N)\n",
    "zet_res = np.geomspace(500,10000,N).astype(int)\n",
    "chi2 = np.zeros((N,N))\n",
    "\n",
    "for i_max, val_max in enumerate(zet_max):\n",
    "    for i_res, val_res in enumerate(zet_res):\n",
    "        presets_1 = Presets(redshift_max=val_max,\n",
    "                        redshift_resolution=val_res,\n",
    "                        forecast_year=forecast_year,should_save_data=False)\n",
    "\n",
    "        data_1 = DataVectors(presets_1)\n",
    "        cl_gc_1 = np.array(data_1.galaxy_clustering_cls(include_all_correlations=True))\n",
    "        cl_ggl_1 = np.array(data_1.galaxy_galaxy_lensing_cls(include_all_correlations=True))\n",
    "        cl_cs_1 = np.array(data_1.cosmic_shear_cls(include_all_correlations=True))\n",
    "\n",
    "        metric = DataVectorMetrics(presets)\n",
    "        chi2[i_max,i_res] = metric.get_delta_chi2(cl_gc, cl_ggl, cl_cs,cl_gc_1, cl_ggl_1, cl_cs_1)\n",
    "\n",
    "file = \"./data_output/chi2/chi2_sweep_zmax_zres_y\" + forecast_year \n",
    "np.savez(file, zet_res=zet_res, zet_max=zet_max, chi2=chi2)"
   ],
   "outputs": [],
   "execution_count": null
  },
  {
   "cell_type": "code",
   "metadata": {},
   "source": [
    "fontsi = 20\n",
    "fontsi2 = 20\n",
    "\n",
    "fig = plt.figure()\n",
    "ax = fig.add_subplot()\n",
    "plt.rc('text', usetex=True)\n",
    "\n",
    "CS = plt.contourf(zet_max,zet_res,chi2.T,cmap = \"cividis\")#,  locator=ticker.LogLocator())\n",
    "cb = plt.colorbar(CS)\n",
    "plt.xlabel(r\"$z_\\mathrm{max}$\", fontsize = fontsi)\n",
    "plt.ylabel(r\"$N_z$\", fontsize = fontsi)\n",
    "cb.set_label(r'$\\Delta\\chi^2$', fontsize=fontsi)\n",
    "plt.tick_params(labelsize=fontsi2)\n",
    "\n",
    "plt.xscale(\"linear\")\n",
    "plt.yscale(\"log\")\n",
    "\n",
    "for t in cb.ax.get_yticklabels():\n",
    "    t.set_fontsize(fontsi2)\n",
    "plt.tight_layout()\n",
    "fname = \"./plots_output/chi2_zet_params_y\" + forecast_year + \".pdf\"\n",
    "plt.savefig(\"./plots_output/chi2_zet_params.pdf\")"
   ],
   "outputs": [],
   "execution_count": null
  },
  {
   "cell_type": "code",
   "metadata": {},
   "source": [
    "forecast_year = \"1\"\n",
    "presets = Presets(forecast_year=forecast_year, should_save_data=False)\n",
    "data = DataVectors(presets)\n",
    "cl_gc = np.array(data.galaxy_clustering_cls(include_all_correlations=True))\n",
    "cl_ggl = np.array(data.galaxy_galaxy_lensing_cls(include_all_correlations=True))\n",
    "cl_cs = np.array(data.cosmic_shear_cls(include_all_correlations=True))\n",
    "\n",
    "metric = DataVectorMetrics(presets)\n",
    "chi2_fid = metric.get_delta_chi2(cl_gc, \n",
    "                                 cl_ggl,\n",
    "                                 cl_cs,\n",
    "                                 np.zeros_like(cl_gc),\n",
    "                                 np.zeros_like(cl_ggl),\n",
    "                                 np.zeros_like(cl_cs))\n",
    "\n",
    "\n",
    "N = 50\n",
    "number_ell = np.geomspace(20.,presets.ell_max,N).astype(int)\n",
    "chi2_y1 = np.zeros(N)\n",
    "\n",
    "for i_ell, val_ell in enumerate(number_ell):\n",
    "    presets_1 = Presets(ell_num=val_ell,should_save_data=False)\n",
    "\n",
    "    data_1 = DataVectors(presets_1)\n",
    "    cl_gc_1 = np.array(data_1.galaxy_clustering_cls(include_all_correlations=True))\n",
    "    cl_ggl_1 = np.array(data_1.galaxy_galaxy_lensing_cls(include_all_correlations=True))\n",
    "    cl_cs_1 = np.array(data_1.cosmic_shear_cls(include_all_correlations=True))\n",
    "\n",
    "    metric = DataVectorMetrics(presets_1)\n",
    "    chi2_y1[i_ell] = np.abs((metric.get_delta_chi2(cl_gc_1, \n",
    "                                 cl_ggl_1,\n",
    "                                 cl_cs_1,\n",
    "                                 np.zeros_like(cl_gc_1),\n",
    "                                 np.zeros_like(cl_ggl_1),\n",
    "                                 np.zeros_like(cl_cs_1)) - chi2_fid)/chi2_fid)\n",
    "\n",
    "file = \"./data_output/chi2/chi2_number_ell_y\" + forecast_year \n",
    "np.savez(file, zet_res=zet_res, zet_max=zet_max, chi2=chi2)"
   ],
   "outputs": [],
   "execution_count": null
  },
  {
   "cell_type": "code",
   "metadata": {},
   "source": [
    "forecast_year = \"10\"\n",
    "presets = Presets(forecast_year=forecast_year, should_save_data=False)\n",
    "data = DataVectors(presets)\n",
    "cl_gc = np.array(data.galaxy_clustering_cls(include_all_correlations=True))\n",
    "cl_ggl = np.array(data.galaxy_galaxy_lensing_cls(include_all_correlations=True))\n",
    "cl_cs = np.array(data.cosmic_shear_cls(include_all_correlations=True))\n",
    "\n",
    "metric = DataVectorMetrics(presets)\n",
    "chi2_fid = metric.get_delta_chi2(cl_gc, \n",
    "                                 cl_ggl,\n",
    "                                 cl_cs,\n",
    "                                 np.zeros_like(cl_gc),\n",
    "                                 np.zeros_like(cl_ggl),\n",
    "                                 np.zeros_like(cl_cs))\n",
    "\n",
    "\n",
    "N = 50\n",
    "number_ell = np.geomspace(20.,presets.ell_max,N).astype(int)\n",
    "chi2_y10 = np.zeros(N)\n",
    "\n",
    "for i_ell, val_ell in enumerate(number_ell):\n",
    "    presets_1 = Presets(forecast_year=forecast_year,ell_num=val_ell,should_save_data=False)\n",
    "\n",
    "    data_1 = DataVectors(presets_1)\n",
    "    cl_gc_1 = np.array(data_1.galaxy_clustering_cls(include_all_correlations=True))\n",
    "    cl_ggl_1 = np.array(data_1.galaxy_galaxy_lensing_cls(include_all_correlations=True))\n",
    "    cl_cs_1 = np.array(data_1.cosmic_shear_cls(include_all_correlations=True))\n",
    "\n",
    "    metric = DataVectorMetrics(presets_1)\n",
    "    chi2_y10[i_ell] = np.abs((metric.get_delta_chi2(cl_gc_1, \n",
    "                                 cl_ggl_1,\n",
    "                                 cl_cs_1,\n",
    "                                 np.zeros_like(cl_gc_1),\n",
    "                                 np.zeros_like(cl_ggl_1),\n",
    "                                 np.zeros_like(cl_cs_1)) - chi2_fid)/chi2_fid)\n",
    "\n",
    "file = \"./data_output/chi2/chi2_number_ell_y\" + forecast_year \n",
    "np.savez(file, zet_res=zet_res, zet_max=zet_max, chi2=chi2)"
   ],
   "outputs": [],
   "execution_count": null
  },
  {
   "cell_type": "code",
   "metadata": {},
   "source": [
    "fontsi = 20\n",
    "fontsi2 = 20\n",
    "fig = plt.figure()\n",
    "ax = fig.add_subplot()\n",
    "\n",
    "plt.rc('text', usetex=True)\n",
    "\n",
    "plt.loglog(number_ell, chi2_y1, color = \"blue\", lw = 2, label = r\"$\\mathrm{Year\\; 1}$\")\n",
    "plt.loglog(number_ell, chi2_y10, color = \"red\", lw = 2, label = r\"$\\mathrm{Year\\; 10}$\")\n",
    "\n",
    "plt.xlabel(\"$\\ell$\", fontsize = fontsi)\n",
    "plt.ylabel(r\"$\\mathrm{relative\\;difference\\;}\\Delta\\chi^2$\", fontsize = fontsi)\n",
    "plt.tick_params(labelsize=fontsi2)\n",
    "plt.xlim(number_ell[0],number_ell[-1])\n",
    "ax.legend( frameon = False, fontsize =fontsi, loc = \"best\")\n",
    "plt.tight_layout()\n",
    "plt.savefig(\"./plots_output/chi2_ell_num.pdf\")\n",
    "\n"
   ],
   "outputs": [],
   "execution_count": null
  }
 ],
 "metadata": {
  "kernelspec": {
   "display_name": "Python (fisk)",
   "language": "python",
   "name": "fisk"
  },
  "language_info": {
   "codemirror_mode": {
    "name": "ipython",
    "version": 3
   },
   "file_extension": ".py",
   "mimetype": "text/x-python",
   "name": "python",
   "nbconvert_exporter": "python",
   "pygments_lexer": "ipython3",
   "version": "3.12.5"
  }
 },
 "nbformat": 4,
 "nbformat_minor": 2
}
