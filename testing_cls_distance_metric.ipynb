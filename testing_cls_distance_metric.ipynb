{
 "cells": [
  {
   "cell_type": "code",
   "metadata": {
    "ExecuteTime": {
     "end_time": "2024-11-05T03:44:47.712932Z",
     "start_time": "2024-11-05T03:44:47.427438Z"
    }
   },
   "source": [
    "import pyccl as ccl\n",
    "print(f\"I am using pyccl version {ccl.__version__}\")\n",
    "import numpy as np\n",
    "import matplotlib.pyplot as plt\n",
    "from scripts.presets import Presets\n",
    "from scripts.data_vectors import DataVectors\n",
    "from scripts.data_vector_metrics import DataVectorMetrics\n",
    "from scripts.power_spectra_analysis import PowerSpectraAnalysis\n",
    "import time\n",
    "import seaborn as sns\n",
    "import cmasher as cmr\n"
   ],
   "outputs": [
    {
     "name": "stdout",
     "output_type": "stream",
     "text": [
      "I am using pyccl version 2.8.0\n"
     ]
    }
   ],
   "execution_count": 2
  },
  {
   "metadata": {
    "ExecuteTime": {
     "end_time": "2024-11-05T03:44:47.812751Z",
     "start_time": "2024-11-05T03:44:47.798119Z"
    }
   },
   "cell_type": "code",
   "source": [
    "# Step 1: Initialize your Presets object\n",
    "forecast_year = \"10\"  # or whatever forecast year you want to use\n",
    "presets = Presets(forecast_year=forecast_year, should_save_data=False)\n",
    "\n",
    "# Step 2: Create an instance of PowerSpectraAnalysis with the Presets object\n",
    "analysis = PowerSpectraAnalysis(presets)\n"
   ],
   "outputs": [],
   "execution_count": 3
  },
  {
   "metadata": {},
   "cell_type": "markdown",
   "source": "### Step 3: Generate and save the fiducial spectra"
  },
  {
   "metadata": {},
   "cell_type": "code",
   "source": [
    "%%time\n",
    "analysis.compute_fiducial_spectra()"
   ],
   "outputs": [],
   "execution_count": null
  },
  {
   "metadata": {},
   "cell_type": "markdown",
   "source": [
    "### Step 4: Compute the ell sweep power spectra\n",
    "This generates and saves spectra as a function of ell values.\n",
    "Adjust num_ell_values as needed (we are doign the default setting)"
   ]
  },
  {
   "metadata": {},
   "cell_type": "code",
   "source": [
    "%%time\n",
    "#analysis.compute_cls_ell_sweep(num_ell_values=50)  \n"
   ],
   "outputs": [],
   "execution_count": null
  },
  {
   "metadata": {},
   "cell_type": "markdown",
   "source": [
    "### Step 5: Compute the redshift sweep (z sweep) power spectra\n",
    "This generates and saves spectra over a range of z_max and z_resolution values.\n",
    "The values there are the default ones."
   ]
  },
  {
   "metadata": {
    "ExecuteTime": {
     "end_time": "2024-11-05T03:45:17.626202Z",
     "start_time": "2024-11-05T03:44:50.648420Z"
    }
   },
   "cell_type": "code",
   "source": [
    "%%time\n",
    "# problematic zmax 3.3 zres 350 \n",
    "# this usually starts from 3.0 but now testing wtf is going on\n",
    "zet_max_range = np.arange(3.0, 4.1, 0.1)\n",
    "zet_res_range = np.arange(400, 10050, 50)\n",
    "analysis.compute_cls_zres_and_zmax(zet_max_range, zet_res_range)\n"
   ],
   "outputs": [
    {
     "name": "stdout",
     "output_type": "stream",
     "text": [
      "Saved spectra for zmax=3.3, zres=400\n",
      "Saved spectra for zmax=3.3, zres=450\n",
      "Saved spectra for zmax=3.3, zres=500\n"
     ]
    }
   ],
   "execution_count": null
  },
  {
   "metadata": {},
   "cell_type": "markdown",
   "source": [
    "### Step 6: Compute the ell sweep distance metric\n",
    "This calculates and saves the delta metric using the ell sweep spectra compared to the fiducial spectra."
   ]
  },
  {
   "metadata": {},
   "cell_type": "code",
   "source": [
    "%%time\n",
    "ell_sweep = analysis.compute_distance_metric_ell_sweep(num_ell_values=50)\n"
   ],
   "outputs": [],
   "execution_count": null
  },
  {
   "metadata": {},
   "cell_type": "markdown",
   "source": [
    "### Step 7: Compute the z sweep distance metric\n",
    "This calculates and saves the delta metric using the z sweep spectra compared to the fiducial spectra."
   ]
  },
  {
   "metadata": {},
   "cell_type": "code",
   "source": [
    "%%time\n",
    "z_sweep = analysis.compute_distance_metric_redshift_sweep(zet_max_range, zet_res_range)\n"
   ],
   "outputs": [],
   "execution_count": null
  },
  {
   "metadata": {},
   "cell_type": "code",
   "source": [
    "cmap = cmr.get_sub_cmap('cmr.pride', 0.15, 0.85)\n",
    "sns.heatmap(z_sweep.T, cmap=cmap)"
   ],
   "outputs": [],
   "execution_count": null
  },
  {
   "metadata": {},
   "cell_type": "code",
   "source": "",
   "outputs": [],
   "execution_count": null
  }
 ],
 "metadata": {
  "kernelspec": {
   "display_name": "Python (fisk)",
   "language": "python",
   "name": "fisk"
  },
  "language_info": {
   "codemirror_mode": {
    "name": "ipython",
    "version": 3
   },
   "file_extension": ".py",
   "mimetype": "text/x-python",
   "name": "python",
   "nbconvert_exporter": "python",
   "pygments_lexer": "ipython3",
   "version": "3.12.5"
  }
 },
 "nbformat": 4,
 "nbformat_minor": 2
}
