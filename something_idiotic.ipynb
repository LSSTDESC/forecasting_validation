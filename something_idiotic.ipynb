{
 "cells": [
  {
   "cell_type": "code",
   "id": "initial_id",
   "metadata": {
    "collapsed": true,
    "ExecuteTime": {
     "end_time": "2024-11-05T13:42:29.530135Z",
     "start_time": "2024-11-05T13:42:26.404594Z"
    }
   },
   "source": [
    "import pyccl as ccl\n",
    "print(f\"I am using pyccl version {ccl.__version__}\")\n",
    "import scripts.plotting_scripts.plotting as p\n",
    "from scripts.presets import Presets\n",
    "from scripts.galaxy_bias import GalaxyBias\n",
    "from scripts.systematics_metrics import SystematicsMetrics\n",
    "from scripts.data_vectors import DataVectors\n",
    "from scripts.power_spectra_analysis import PowerSpectraAnalysis\n",
    "from scripts.data_vector_metrics import DataVectorMetrics\n",
    "import numpy as np"
   ],
   "outputs": [
    {
     "name": "stdout",
     "output_type": "stream",
     "text": [
      "I am using pyccl version 2.8.0\n"
     ]
    }
   ],
   "execution_count": 1
  },
  {
   "metadata": {
    "ExecuteTime": {
     "end_time": "2024-11-05T13:42:30.264800Z",
     "start_time": "2024-11-05T13:42:30.244118Z"
    }
   },
   "cell_type": "code",
   "source": [
    "redshift_max = 3.4\n",
    "redshift_resolution = 800 \n",
    "redshift_max = 3.3\n",
    "redshift_resolution = 350  \n",
    "forecast_year = \"10\"\n",
    "# Please note that the redshift resolution is the number of redshifts between 0 and redshift_max.\n",
    "# Additionally, a lot of parametric sweeping is already coded into helper functions \n",
    "# so we will not need to worry about that for now.\n",
    "\n",
    "# We will also investigate ell binning but for this particular exercise,\n",
    "# we will keep the ell binning at default values.\n",
    "#ell_min = 20\n",
    "#ell_max = 2000\n",
    "#n_ell = 50\n",
    "\n",
    "# We now initialize the class by only passing the redshift information.\n",
    "presets = Presets(redshift_max=redshift_max,\n",
    "                  redshift_resolution=redshift_resolution,\n",
    "                  forecast_year=forecast_year)\n",
    "dv = DataVectors(presets)\n"
   ],
   "id": "8477fc8f67739f73",
   "outputs": [],
   "execution_count": 2
  },
  {
   "metadata": {},
   "cell_type": "code",
   "outputs": [],
   "execution_count": null,
   "source": [
    "redshift_max = 3.4\n",
    "redshift_resolution = 800 \n",
    "redshift_max = 3.3\n",
    "redshift_resolution = 350  \n",
    "forecast_year = \"10\"\n",
    "\n",
    "presets = Presets(redshift_max=redshift_max,\n",
    "                  redshift_resolution=redshift_resolution,\n",
    "                  forecast_year=forecast_year)\n",
    "dv = DataVectors(presets)\n",
    "\n",
    "ggl_cls = dv.galaxy_galaxy_lensing_cls(include_all_correlations=True)\n"
   ],
   "id": "352c30075e3f47bc"
  },
  {
   "metadata": {},
   "cell_type": "code",
   "source": [
    "cs_cls = dv.cosmic_shear_cls(include_all_correlations=True)\n",
    "gc_cls = dv.galaxy_clustering_cls(include_all_correlations=True)\n"
   ],
   "id": "2f679866277ad29b",
   "outputs": [],
   "execution_count": null
  },
  {
   "metadata": {},
   "cell_type": "code",
   "source": [
    "\n",
    "ggl_cls = dv.galaxy_galaxy_lensing_cls(include_all_correlations=True)"
   ],
   "id": "aea0ae1892c01b80",
   "outputs": [],
   "execution_count": null
  },
  {
   "metadata": {
    "ExecuteTime": {
     "end_time": "2024-11-05T13:42:36.554162Z",
     "start_time": "2024-11-05T13:42:36.540652Z"
    }
   },
   "cell_type": "code",
   "source": [
    "all_corr = dv.get_correlation_pairs_all()\n",
    "all_corr"
   ],
   "id": "505682532bdee5b3",
   "outputs": [
    {
     "data": {
      "text/plain": [
       "{'cosmic_shear': [(0, 0),\n",
       "  (0, 1),\n",
       "  (0, 2),\n",
       "  (0, 3),\n",
       "  (0, 4),\n",
       "  (1, 0),\n",
       "  (1, 1),\n",
       "  (1, 2),\n",
       "  (1, 3),\n",
       "  (1, 4),\n",
       "  (2, 0),\n",
       "  (2, 1),\n",
       "  (2, 2),\n",
       "  (2, 3),\n",
       "  (2, 4),\n",
       "  (3, 0),\n",
       "  (3, 1),\n",
       "  (3, 2),\n",
       "  (3, 3),\n",
       "  (3, 4),\n",
       "  (4, 0),\n",
       "  (4, 1),\n",
       "  (4, 2),\n",
       "  (4, 3),\n",
       "  (4, 4)],\n",
       " 'galaxy_galaxy_lensing': [(0, 0),\n",
       "  (0, 1),\n",
       "  (0, 2),\n",
       "  (0, 3),\n",
       "  (0, 4),\n",
       "  (1, 0),\n",
       "  (1, 1),\n",
       "  (1, 2),\n",
       "  (1, 3),\n",
       "  (1, 4),\n",
       "  (2, 0),\n",
       "  (2, 1),\n",
       "  (2, 2),\n",
       "  (2, 3),\n",
       "  (2, 4),\n",
       "  (3, 0),\n",
       "  (3, 1),\n",
       "  (3, 2),\n",
       "  (3, 3),\n",
       "  (3, 4),\n",
       "  (4, 0),\n",
       "  (4, 1),\n",
       "  (4, 2),\n",
       "  (4, 3),\n",
       "  (4, 4),\n",
       "  (5, 0),\n",
       "  (5, 1),\n",
       "  (5, 2),\n",
       "  (5, 3),\n",
       "  (5, 4),\n",
       "  (6, 0),\n",
       "  (6, 1),\n",
       "  (6, 2),\n",
       "  (6, 3),\n",
       "  (6, 4),\n",
       "  (7, 0),\n",
       "  (7, 1),\n",
       "  (7, 2),\n",
       "  (7, 3),\n",
       "  (7, 4),\n",
       "  (8, 0),\n",
       "  (8, 1),\n",
       "  (8, 2),\n",
       "  (8, 3),\n",
       "  (8, 4),\n",
       "  (9, 0),\n",
       "  (9, 1),\n",
       "  (9, 2),\n",
       "  (9, 3),\n",
       "  (9, 4)],\n",
       " 'galaxy_clustering': [(0, 0),\n",
       "  (0, 1),\n",
       "  (0, 2),\n",
       "  (0, 3),\n",
       "  (0, 4),\n",
       "  (0, 5),\n",
       "  (0, 6),\n",
       "  (0, 7),\n",
       "  (0, 8),\n",
       "  (0, 9),\n",
       "  (1, 0),\n",
       "  (1, 1),\n",
       "  (1, 2),\n",
       "  (1, 3),\n",
       "  (1, 4),\n",
       "  (1, 5),\n",
       "  (1, 6),\n",
       "  (1, 7),\n",
       "  (1, 8),\n",
       "  (1, 9),\n",
       "  (2, 0),\n",
       "  (2, 1),\n",
       "  (2, 2),\n",
       "  (2, 3),\n",
       "  (2, 4),\n",
       "  (2, 5),\n",
       "  (2, 6),\n",
       "  (2, 7),\n",
       "  (2, 8),\n",
       "  (2, 9),\n",
       "  (3, 0),\n",
       "  (3, 1),\n",
       "  (3, 2),\n",
       "  (3, 3),\n",
       "  (3, 4),\n",
       "  (3, 5),\n",
       "  (3, 6),\n",
       "  (3, 7),\n",
       "  (3, 8),\n",
       "  (3, 9),\n",
       "  (4, 0),\n",
       "  (4, 1),\n",
       "  (4, 2),\n",
       "  (4, 3),\n",
       "  (4, 4),\n",
       "  (4, 5),\n",
       "  (4, 6),\n",
       "  (4, 7),\n",
       "  (4, 8),\n",
       "  (4, 9),\n",
       "  (5, 0),\n",
       "  (5, 1),\n",
       "  (5, 2),\n",
       "  (5, 3),\n",
       "  (5, 4),\n",
       "  (5, 5),\n",
       "  (5, 6),\n",
       "  (5, 7),\n",
       "  (5, 8),\n",
       "  (5, 9),\n",
       "  (6, 0),\n",
       "  (6, 1),\n",
       "  (6, 2),\n",
       "  (6, 3),\n",
       "  (6, 4),\n",
       "  (6, 5),\n",
       "  (6, 6),\n",
       "  (6, 7),\n",
       "  (6, 8),\n",
       "  (6, 9),\n",
       "  (7, 0),\n",
       "  (7, 1),\n",
       "  (7, 2),\n",
       "  (7, 3),\n",
       "  (7, 4),\n",
       "  (7, 5),\n",
       "  (7, 6),\n",
       "  (7, 7),\n",
       "  (7, 8),\n",
       "  (7, 9),\n",
       "  (8, 0),\n",
       "  (8, 1),\n",
       "  (8, 2),\n",
       "  (8, 3),\n",
       "  (8, 4),\n",
       "  (8, 5),\n",
       "  (8, 6),\n",
       "  (8, 7),\n",
       "  (8, 8),\n",
       "  (8, 9),\n",
       "  (9, 0),\n",
       "  (9, 1),\n",
       "  (9, 2),\n",
       "  (9, 3),\n",
       "  (9, 4),\n",
       "  (9, 5),\n",
       "  (9, 6),\n",
       "  (9, 7),\n",
       "  (9, 8),\n",
       "  (9, 9)]}"
      ]
     },
     "execution_count": 4,
     "metadata": {},
     "output_type": "execute_result"
    }
   ],
   "execution_count": 4
  },
  {
   "metadata": {},
   "cell_type": "code",
   "source": [
    "corr = dv.get_correlation_pairs()\n",
    "corr"
   ],
   "id": "ef084cebb8171556",
   "outputs": [],
   "execution_count": null
  },
  {
   "metadata": {},
   "cell_type": "code",
   "source": "dvm = DataVectorMetrics(presets)",
   "id": "5cb71a3ba536340c",
   "outputs": [],
   "execution_count": null
  },
  {
   "metadata": {},
   "cell_type": "code",
   "source": [
    "fid_path = f\"data_output/spectra_sweep/spectra_y{forecast_year}/fiducial/\"\n",
    "fid_cs_cls = np.load(f\"{fid_path}cl_cs_fiducial_y{forecast_year}.npy\")\n",
    "fid_gc_cls = np.load(f\"{fid_path}cl_gc_fiducial_y{forecast_year}.npy\")\n",
    "fid_ggl_cls = np.load(f\"{fid_path}cl_ggl_fiducial_y{forecast_year}.npy\")"
   ],
   "id": "d84d39f27fcf3076",
   "outputs": [],
   "execution_count": null
  },
  {
   "metadata": {},
   "cell_type": "code",
   "source": [
    "%%time\n",
    "metric_test = dvm.get_delta_chi2(cls_gc=gc_cls, cls_ggl=ggl_cls, cls_cs=cs_cls, \n",
    "                                 cls_gc_ref=fid_gc_cls, cls_ggl_ref=fid_ggl_cls, cls_cs_ref=fid_cs_cls)"
   ],
   "id": "45547d048f110645",
   "outputs": [],
   "execution_count": null
  },
  {
   "metadata": {},
   "cell_type": "code",
   "source": "metric_test",
   "id": "91bddf85cbc60cbf",
   "outputs": [],
   "execution_count": null
  },
  {
   "metadata": {},
   "cell_type": "code",
   "source": "",
   "id": "883d771c69be4f5e",
   "outputs": [],
   "execution_count": null
  }
 ],
 "metadata": {
  "kernelspec": {
   "display_name": "Python (fisk)",
   "language": "python",
   "name": "fisk"
  },
  "language_info": {
   "codemirror_mode": {
    "name": "ipython",
    "version": 2
   },
   "file_extension": ".py",
   "mimetype": "text/x-python",
   "name": "python",
   "nbconvert_exporter": "python",
   "pygments_lexer": "ipython2",
   "version": "2.7.6"
  }
 },
 "nbformat": 4,
 "nbformat_minor": 5
}
