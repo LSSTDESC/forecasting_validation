{
 "cells": [
  {
   "cell_type": "code",
   "id": "initial_id",
   "metadata": {
    "collapsed": true,
    "ExecuteTime": {
     "end_time": "2024-10-29T14:53:26.467963Z",
     "start_time": "2024-10-29T14:53:24.018066Z"
    }
   },
   "source": [
    "import pyccl as ccl\n",
    "print(f\"I am using pyccl version {ccl.__version__}\")\n",
    "import numpy as np\n",
    "from scripts.metrics import Metrics\n",
    "import scripts.helpers as h\n",
    "import scripts.plotting as plot\n",
    "import matplotlib.pyplot as plt"
   ],
   "outputs": [
    {
     "name": "stdout",
     "output_type": "stream",
     "text": [
      "I am using pyccl version 2.8.0\n"
     ]
    }
   ],
   "execution_count": 1
  },
  {
   "metadata": {
    "ExecuteTime": {
     "end_time": "2024-10-29T14:53:27.804248Z",
     "start_time": "2024-10-29T14:53:26.474131Z"
    }
   },
   "cell_type": "code",
   "source": [
    "cosmo = ccl.Cosmology(Omega_c=0.27, Omega_b=0.045, h=0.67, sigma8=0.83, n_s=0.96)\n",
    "redshift_range_1 = np.linspace(0, 3.5, 3000)\n",
    "redshift_range_2 = np.linspace(0, 3.5, 5000)\n",
    "ells = np.geomspace(20, 2000, 50)\n",
    "\n",
    "mtx_1 = Metrics(cosmo, redshift_range_1, ells)\n",
    "mtx_2 = Metrics(cosmo, redshift_range_2, ells)\n",
    "\n",
    "shear_1 = mtx_1.cosmic_shear_cls()\n",
    "shear_2 = mtx_2.cosmic_shear_cls()\n",
    "\n",
    "clu_1 = mtx_1.galaxy_clustering_cls()\n",
    "clu_2 = mtx_2.galaxy_clustering_cls()\n",
    "\n",
    "source_bins = mtx_1.source_bins\n",
    "lens_bins = mtx_1.lens_bins\n",
    "\n",
    "source_bin_centers = h.get_bin_centers(source_bins, redshift_range_1)\n",
    "lens_bin_centers = h.get_bin_centers(lens_bins, redshift_range_1)\n"
   ],
   "id": "f7bb0d20ac6210e5",
   "outputs": [],
   "execution_count": 2
  },
  {
   "metadata": {
    "ExecuteTime": {
     "end_time": "2024-10-29T15:25:42.720133Z",
     "start_time": "2024-10-29T15:25:42.692827Z"
    }
   },
   "cell_type": "code",
   "source": "source_bins[1]",
   "id": "9d1d95756f74ca3d",
   "outputs": [
    {
     "data": {
      "text/plain": [
       "array([0.00000000e+00, 5.55737607e-16, 2.73243723e-15, ...,\n",
       "       0.00000000e+00, 0.00000000e+00, 0.00000000e+00])"
      ]
     },
     "execution_count": 10,
     "metadata": {},
     "output_type": "execute_result"
    }
   ],
   "execution_count": 10
  },
  {
   "metadata": {
    "ExecuteTime": {
     "end_time": "2024-10-29T14:56:10.737817Z",
     "start_time": "2024-10-29T14:56:10.725449Z"
    }
   },
   "cell_type": "code",
   "source": "",
   "id": "f95deb09834e7de",
   "outputs": [],
   "execution_count": null
  },
  {
   "metadata": {},
   "cell_type": "code",
   "source": [
    "for i in source_bins.keys():\n",
    "    plt.plot(redshift_range_1, source_bins[i])\n",
    "    plt.axvline(x=source_bin_centers[i], color='r', linestyle='--')"
   ],
   "id": "2a1af59faa588a1",
   "outputs": [],
   "execution_count": null
  },
  {
   "metadata": {},
   "cell_type": "code",
   "source": [
    "for i in lens_bins.keys():\n",
    "    plt.plot(redshift_range_1, lens_bins[i])\n",
    "    plt.axvline(x=lens_bin_centers[i], color='r', linestyle='--')"
   ],
   "id": "da84bdf702c132a3",
   "outputs": [],
   "execution_count": null
  },
  {
   "metadata": {},
   "cell_type": "code",
   "source": "lens_bin_centers",
   "id": "1f2f7a9b26de17e2",
   "outputs": [],
   "execution_count": null
  },
  {
   "metadata": {},
   "cell_type": "code",
   "source": [
    "src = mtx_1.source_nz\n",
    "src_bin = mtx_1.source_bins\n",
    "\n",
    "for i in src_bin.keys():\n",
    "    plt.plot(redshift_range_1, src_bin[i])"
   ],
   "id": "b6a540ac3f51e57b",
   "outputs": [],
   "execution_count": null
  },
  {
   "metadata": {},
   "cell_type": "code",
   "source": [
    "%%time\n",
    "# Run stability investigation for cosmic shear Cls\n",
    "stability_metrics, results = plot.investigate_stability(cosmo,\n",
    "                                                        ells_1,\n",
    "                                                        cls_type=\"shear\",\n",
    "                                                        difference_type=\"relative\")\n"
   ],
   "id": "eb7b8ae4c6a4ab97",
   "outputs": [],
   "execution_count": null
  },
  {
   "metadata": {},
   "cell_type": "markdown",
   "source": "",
   "id": "2c54dd00b94c480e"
  },
  {
   "metadata": {},
   "cell_type": "code",
   "source": [
    "# Extract resolutions and differences for plotting\n",
    "res_pairs = list(stability_metrics.keys())\n",
    "avg_diffs = list(stability_metrics.values())\n",
    "\n",
    "# Plot fractional differences\n",
    "plt.figure(figsize=(10, 6))\n",
    "plt.plot([f\"{r1}-{r2}\" for r1, r2 in res_pairs], avg_diffs, marker='o')\n",
    "plt.xlabel(\"Redshift Resolution Pair\")\n",
    "plt.ylabel(\"Average Fractional Difference in Cls\")\n",
    "plt.title(\"Stability of Cls across Redshift Resolutions\")\n",
    "plt.xticks(rotation=45)\n",
    "plt.show()\n"
   ],
   "id": "4d0c196f8d41aadd",
   "outputs": [],
   "execution_count": null
  },
  {
   "metadata": {},
   "cell_type": "code",
   "source": [
    "# Extract resolutions and average differences\n",
    "res1, res2 = zip(*res_pairs)  # Separate into two resolution lists\n",
    "avg_diffs = list(stability_metrics.values())\n",
    "\n",
    "# Plot with logarithmic x-axis for better spacing\n",
    "plt.figure(figsize=(10, 6))\n",
    "plt.scatter(res2, avg_diffs, c='blue', marker='o', label='Fractional Difference')\n",
    "plt.xscale('log')\n",
    "plt.xlabel(\"Redshift Resolution\")\n",
    "plt.ylabel(\"Average Fractional Difference in Cls\")\n",
    "plt.title(\"Stability of Cls across Redshift Resolutions\")\n",
    "plt.legend()\n",
    "plt.show()\n"
   ],
   "id": "d8ed8117221ccb1e",
   "outputs": [],
   "execution_count": null
  },
  {
   "metadata": {},
   "cell_type": "code",
   "source": [
    "# Perform the comoving distance comparison using metrics_1 and redshift_range_2\n",
    "abs_diff, rel_diff = mtx_1.compare_comoving_radial_distances(redshift_range_2)\n",
    "\n",
    "# Generate the fine redshift grid for plotting\n",
    "redshift_fine = np.linspace(0, max(redshift_range_1.max(), redshift_range_2.max()), 5000)\n",
    "\n",
    "# Plot the comparison\n",
    "plot.plot_comoving_distance_comparison(abs_diff, rel_diff, redshift_fine)"
   ],
   "id": "115c1ea37490c69b",
   "outputs": [],
   "execution_count": null
  },
  {
   "metadata": {},
   "cell_type": "code",
   "source": [
    "source_bins = mtx_1.source_bins\n",
    "sources = mtx_1.source_nz\n",
    "plt.plot(sources)\n",
    "plt.plot(sources, ls=\":\")"
   ],
   "id": "3757a147f777db9a",
   "outputs": [],
   "execution_count": null
  },
  {
   "metadata": {},
   "cell_type": "code",
   "source": "plot.compare_two_data_vector_sets_absolute(shear_1, shear_2, ells_1, ells_1)",
   "id": "fd16302e53d2e384",
   "outputs": [],
   "execution_count": null
  },
  {
   "metadata": {},
   "cell_type": "code",
   "source": [
    "plot.compare_two_data_vector_sets_relative(shear_1,\n",
    "                                           shear_2,\n",
    "                                           ells_1,\n",
    "                                           ells_1,\n",
    "                                           label_1=\"$n_z=300$\", \n",
    "                                           label_2=\"$n_z=2000$\")"
   ],
   "id": "18781bdd7d61e60d",
   "outputs": [],
   "execution_count": null
  },
  {
   "metadata": {},
   "cell_type": "code",
   "source": [
    "plot.compare_two_data_vector_sets_relative(clu_1,\n",
    "                                           clu_2,\n",
    "                                           ells_1,\n",
    "                                           ells_1,\n",
    "                                           label_1=\"$n_z=300$\", \n",
    "                                           label_2=\"$n_z=2000$\")"
   ],
   "id": "1697f064a512381c",
   "outputs": [],
   "execution_count": null
  },
  {
   "metadata": {},
   "cell_type": "code",
   "source": "help(ccl.comoving_radial_distance)",
   "id": "5f842e9bb2a77e19",
   "outputs": [],
   "execution_count": null
  },
  {
   "metadata": {},
   "cell_type": "code",
   "source": "",
   "id": "8477fc8f67739f73",
   "outputs": [],
   "execution_count": null
  }
 ],
 "metadata": {
  "kernelspec": {
   "display_name": "Python (fisk)",
   "language": "python",
   "name": "fisk"
  },
  "language_info": {
   "codemirror_mode": {
    "name": "ipython",
    "version": 2
   },
   "file_extension": ".py",
   "mimetype": "text/x-python",
   "name": "python",
   "nbconvert_exporter": "python",
   "pygments_lexer": "ipython2",
   "version": "2.7.6"
  }
 },
 "nbformat": 4,
 "nbformat_minor": 5
}
