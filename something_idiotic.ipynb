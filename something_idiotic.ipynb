{
 "cells": [
  {
   "cell_type": "code",
   "id": "initial_id",
   "metadata": {
    "collapsed": true,
    "ExecuteTime": {
     "end_time": "2024-11-06T18:41:34.104549Z",
     "start_time": "2024-11-06T18:41:34.099348Z"
    }
   },
   "source": [
    "import pyccl as ccl\n",
    "print(f\"I am using pyccl version {ccl.__version__}\")\n",
    "import scripts.plotting_scripts.plotting as p\n",
    "from scripts.presets import Presets\n",
    "from scripts.galaxy_bias import GalaxyBias\n",
    "from scripts.systematics_metrics import SystematicsMetrics\n",
    "from scripts.data_vectors import DataVectors\n",
    "from scripts.power_spectra_analysis import PowerSpectraAnalysis\n",
    "from scripts.data_vector_metrics import DataVectorMetrics\n",
    "import numpy as np\n",
    "from scripts.tomographic_binning import TomographicBinning\n",
    "from scripts.srd_redshift_distributions import SRDRedshiftDistributions\n",
    "import matplotlib.pyplot as plt\n",
    "import scripts.plotting_scripts.plotting as p\n",
    "import scripts.plotting_scripts.plot_helpers as ph\n"
   ],
   "outputs": [
    {
     "name": "stdout",
     "output_type": "stream",
     "text": [
      "I am using pyccl version 2.8.0\n"
     ]
    }
   ],
   "execution_count": 7
  },
  {
   "metadata": {
    "ExecuteTime": {
     "end_time": "2024-11-06T18:40:41.165605Z",
     "start_time": "2024-11-06T18:40:41.110647Z"
    }
   },
   "cell_type": "code",
   "source": [
    "# problematic_combos are (3.4, 800), (3.3, 350)\n",
    "zmax, zres = 3.4, 1000\n",
    "zmax_problem, zres_problem = 3.4, 800 \n",
    "forecast_year = \"10\"\n",
    "\n",
    "# We now initialize the class by only passing the redshift information.\n",
    "presets = Presets(redshift_max=zmax,\n",
    "                  redshift_resolution=zres,\n",
    "                  forecast_year=forecast_year)\n",
    "\n",
    "presets_problem = Presets(redshift_max=zmax_problem,\n",
    "                  redshift_resolution=zres_problem,\n",
    "                  forecast_year=forecast_year)\n",
    "dvp = DataVectors(presets_problem)\n",
    "\n",
    "redshift_range = presets.redshift_range\n",
    "# Initialise the tomographic binning class\n",
    "bin = TomographicBinning(presets)\n",
    "# Get your source and lens redshift distributions\n",
    "sources = SRDRedshiftDistributions(presets).source_sample()\n",
    "lenses = SRDRedshiftDistributions(presets).lens_sample()\n",
    "# Get the source and lens tomo bins\n",
    "source_bins = bin.source_bins()\n",
    "lens_bins = bin.lens_bins()\n",
    "# Get the bin centers for the source and lens bins\n",
    "source_bin_centers = bin.source_bin_centers()\n",
    "lens_bin_centers = bin.lens_bin_centers()\n"
   ],
   "id": "8477fc8f67739f73",
   "outputs": [
    {
     "name": "stdout",
     "output_type": "stream",
     "text": [
      "Data saved to data_output/redshift_distributions/source_sample_y10.npy\n",
      "Data saved to data_output/redshift_distributions/lens_sample_y10.npy\n",
      "Data saved to data_output/redshift_distributions/source_bins_y10.npy\n",
      "Data saved to data_output/redshift_distributions/lens_bins_y10.npy\n"
     ]
    }
   ],
   "execution_count": 5
  },
  {
   "metadata": {},
   "cell_type": "code",
   "outputs": [],
   "execution_count": null,
   "source": "",
   "id": "e71a80712c9c0fe7"
  },
  {
   "metadata": {},
   "cell_type": "code",
   "source": [
    "cs_cls = dv.cosmic_shear_cls(include_all_correlations=True)\n",
    "gc_cls = dv.galaxy_clustering_cls(include_all_correlations=True)\n"
   ],
   "id": "2f679866277ad29b",
   "outputs": [],
   "execution_count": null
  },
  {
   "metadata": {},
   "cell_type": "code",
   "source": "ggl_cls = dv.galaxy_galaxy_lensing_cls(include_all_correlations=True)",
   "id": "aea0ae1892c01b80",
   "outputs": [],
   "execution_count": null
  },
  {
   "metadata": {},
   "cell_type": "markdown",
   "source": "",
   "id": "72743398fcc25c4c"
  },
  {
   "metadata": {},
   "cell_type": "code",
   "source": [
    "all_corr = dv.get_correlation_pairs_all()\n",
    "all_corr"
   ],
   "id": "505682532bdee5b3",
   "outputs": [],
   "execution_count": null
  },
  {
   "metadata": {},
   "cell_type": "code",
   "source": [
    "corr = dv.get_correlation_pairs()\n",
    "corr"
   ],
   "id": "ef084cebb8171556",
   "outputs": [],
   "execution_count": null
  },
  {
   "metadata": {},
   "cell_type": "code",
   "source": "dvm = DataVectorMetrics(presets)",
   "id": "5cb71a3ba536340c",
   "outputs": [],
   "execution_count": null
  },
  {
   "metadata": {},
   "cell_type": "code",
   "source": [
    "fid_path = f\"data_output/spectra_sweep/spectra_y{forecast_year}/fiducial/\"\n",
    "fid_cs_cls = np.load(f\"{fid_path}cl_cs_fiducial_y{forecast_year}.npy\")\n",
    "fid_gc_cls = np.load(f\"{fid_path}cl_gc_fiducial_y{forecast_year}.npy\")\n",
    "fid_ggl_cls = np.load(f\"{fid_path}cl_ggl_fiducial_y{forecast_year}.npy\")"
   ],
   "id": "d84d39f27fcf3076",
   "outputs": [],
   "execution_count": null
  },
  {
   "metadata": {},
   "cell_type": "code",
   "source": [
    "%%time\n",
    "metric_test = dvm.get_delta_chi2(cls_gc=gc_cls, cls_ggl=ggl_cls, cls_cs=cs_cls, \n",
    "                                 cls_gc_ref=fid_gc_cls, cls_ggl_ref=fid_ggl_cls, cls_cs_ref=fid_cs_cls)"
   ],
   "id": "45547d048f110645",
   "outputs": [],
   "execution_count": null
  },
  {
   "metadata": {},
   "cell_type": "code",
   "source": "metric_test",
   "id": "91bddf85cbc60cbf",
   "outputs": [],
   "execution_count": null
  },
  {
   "metadata": {},
   "cell_type": "code",
   "source": "",
   "id": "883d771c69be4f5e",
   "outputs": [],
   "execution_count": null
  }
 ],
 "metadata": {
  "kernelspec": {
   "display_name": "Python (fisk)",
   "language": "python",
   "name": "fisk"
  },
  "language_info": {
   "codemirror_mode": {
    "name": "ipython",
    "version": 2
   },
   "file_extension": ".py",
   "mimetype": "text/x-python",
   "name": "python",
   "nbconvert_exporter": "python",
   "pygments_lexer": "ipython2",
   "version": "2.7.6"
  }
 },
 "nbformat": 4,
 "nbformat_minor": 5
}
