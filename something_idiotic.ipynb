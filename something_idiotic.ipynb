{
 "cells": [
  {
   "cell_type": "code",
   "id": "initial_id",
   "metadata": {
    "collapsed": true,
    "ExecuteTime": {
     "end_time": "2024-10-30T18:57:00.216079Z",
     "start_time": "2024-10-30T18:57:00.211231Z"
    }
   },
   "source": [
    "import pyccl as ccl\n",
    "print(f\"I am using pyccl version {ccl.__version__}\")\n",
    "import numpy as np\n",
    "from scripts.data_vectors import DataVectors\n",
    "import scripts.data_vector_metrics as h\n",
    "import scripts.plotting as p\n",
    "import matplotlib.pyplot as plt\n",
    "from scripts.presets import Presets"
   ],
   "outputs": [
    {
     "name": "stdout",
     "output_type": "stream",
     "text": [
      "I am using pyccl version 2.8.0\n"
     ]
    }
   ],
   "execution_count": 2
  },
  {
   "metadata": {
    "ExecuteTime": {
     "end_time": "2024-10-30T19:43:47.579450Z",
     "start_time": "2024-10-30T19:43:47.275062Z"
    }
   },
   "cell_type": "code",
   "source": [
    "redshift_max = 3.5\n",
    "redshift_resolution_1 = 300  # this is the first resolution of redshifts\n",
    "redshift_resolution_2 = 5000  # this is the second resolution of redshifts\n",
    "forecast_year = \"1\"\n",
    "# Please note that the redshift resolution is the number of redshifts between 0 and redshift_max.\n",
    "# Additionally, a lot of parametric sweeping is already coded into helper functions \n",
    "# so we will not need to worry about that for now.\n",
    "\n",
    "# We will also investigate ell binning but for this particular exercise,\n",
    "# we will keep the ell binning at default values.\n",
    "#ell_min = 20\n",
    "#ell_max = 2000\n",
    "#n_ell = 50\n",
    "\n",
    "# We now initialize the class by only passing the redshift information.\n",
    "presets1 = Presets(redshift_max=redshift_max,\n",
    "                  redshift_resolution=redshift_resolution_1,\n",
    "                  forecast_year=forecast_year)\n",
    "presets2 = Presets(redshift_max=redshift_max,\n",
    "                    redshift_resolution=redshift_resolution_2,\n",
    "                    forecast_year=forecast_year)\n",
    "z1 = presets1.redshift_range\n",
    "z2 = presets2.redshift_range\n",
    "\n",
    "chi1 = ccl.comoving_radial_distance(presets1.cosmology, 1/(1+z1))\n",
    "chi2 = ccl.comoving_radial_distance(presets2.cosmology, 1/(1+z2))"
   ],
   "id": "8477fc8f67739f73",
   "outputs": [],
   "execution_count": 17
  }
 ],
 "metadata": {
  "kernelspec": {
   "display_name": "Python (fisk)",
   "language": "python",
   "name": "fisk"
  },
  "language_info": {
   "codemirror_mode": {
    "name": "ipython",
    "version": 2
   },
   "file_extension": ".py",
   "mimetype": "text/x-python",
   "name": "python",
   "nbconvert_exporter": "python",
   "pygments_lexer": "ipython2",
   "version": "2.7.6"
  }
 },
 "nbformat": 4,
 "nbformat_minor": 5
}
