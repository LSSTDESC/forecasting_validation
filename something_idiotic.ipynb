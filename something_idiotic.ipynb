{
 "cells": [
  {
   "cell_type": "code",
   "id": "initial_id",
   "metadata": {
    "collapsed": true,
    "ExecuteTime": {
     "end_time": "2024-11-05T03:37:18.491935Z",
     "start_time": "2024-11-05T03:37:18.479737Z"
    }
   },
   "source": [
    "import pyccl as ccl\n",
    "print(f\"I am using pyccl version {ccl.__version__}\")\n",
    "import scripts.plotting_scripts.plotting as p\n",
    "from scripts.presets import Presets\n",
    "from scripts.galaxy_bias import GalaxyBias\n",
    "from scripts.systematics_metrics import SystematicsMetrics\n",
    "from scripts.data_vectors import DataVectors"
   ],
   "outputs": [
    {
     "name": "stdout",
     "output_type": "stream",
     "text": [
      "I am using pyccl version 2.8.0\n"
     ]
    }
   ],
   "execution_count": 2
  },
  {
   "metadata": {
    "ExecuteTime": {
     "end_time": "2024-11-05T03:39:07.076635Z",
     "start_time": "2024-11-05T03:39:07.062841Z"
    }
   },
   "cell_type": "code",
   "source": [
    "redshift_max = 3.4\n",
    "redshift_resolution = 800  # this is the first resolution of redshifts\n",
    "forecast_year = \"1\"\n",
    "# Please note that the redshift resolution is the number of redshifts between 0 and redshift_max.\n",
    "# Additionally, a lot of parametric sweeping is already coded into helper functions \n",
    "# so we will not need to worry about that for now.\n",
    "\n",
    "# We will also investigate ell binning but for this particular exercise,\n",
    "# we will keep the ell binning at default values.\n",
    "#ell_min = 20\n",
    "#ell_max = 2000\n",
    "#n_ell = 50\n",
    "\n",
    "# We now initialize the class by only passing the redshift information.\n",
    "presets = Presets(redshift_max=redshift_max,\n",
    "                  redshift_resolution=redshift_resolution,\n",
    "                  forecast_year=forecast_year)\n"
   ],
   "id": "8477fc8f67739f73",
   "outputs": [],
   "execution_count": 8
  },
  {
   "metadata": {
    "ExecuteTime": {
     "end_time": "2024-11-05T03:39:08.759980Z",
     "start_time": "2024-11-05T03:39:07.676565Z"
    }
   },
   "cell_type": "code",
   "source": [
    "dv = DataVectors(presets)\n",
    "\n",
    "cs_cls = dv.cosmic_shear_cls(include_all_correlations=True)\n",
    "gc_cls = dv.galaxy_clustering_cls(include_all_correlations=True)\n",
    "ggl_cls = dv.galaxy_galaxy_lensing_cls(include_all_correlations=True)"
   ],
   "id": "2f679866277ad29b",
   "outputs": [
    {
     "name": "stdout",
     "output_type": "stream",
     "text": [
      "Data saved to data_output/angular_power_spectra/cosmic_shear_correlations_all_y1.npy\n",
      "Data saved to data_output/angular_power_spectra/cosmic_shear_cls_all_y1_zmax3.4_zres800_ccl_v2.8.0.npy\n",
      "Data saved to data_output/angular_power_spectra/galaxy_clustering_correlations_all_y1.npy\n",
      "Data saved to data_output/angular_power_spectra/galaxy_clustering_cls_all_y1_zmax3.4_zres800_ccl_v2.8.0.npy\n",
      "Data saved to data_output/angular_power_spectra/galaxy_galaxy_lensing_correlations_all_y1.npy\n",
      "Data saved to data_output/angular_power_spectra/galaxy_galaxy_lensing_cls_all_y1_zmax3.4_zres800_ccl_v2.8.0.npy\n"
     ]
    }
   ],
   "execution_count": 9
  },
  {
   "metadata": {},
   "cell_type": "code",
   "outputs": [],
   "execution_count": null,
   "source": "",
   "id": "5cb71a3ba536340c"
  }
 ],
 "metadata": {
  "kernelspec": {
   "display_name": "Python (fisk)",
   "language": "python",
   "name": "fisk"
  },
  "language_info": {
   "codemirror_mode": {
    "name": "ipython",
    "version": 2
   },
   "file_extension": ".py",
   "mimetype": "text/x-python",
   "name": "python",
   "nbconvert_exporter": "python",
   "pygments_lexer": "ipython2",
   "version": "2.7.6"
  }
 },
 "nbformat": 4,
 "nbformat_minor": 5
}
