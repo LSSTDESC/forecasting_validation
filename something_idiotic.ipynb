{
 "cells": [
  {
   "cell_type": "code",
   "id": "initial_id",
   "metadata": {
    "collapsed": true,
    "ExecuteTime": {
     "end_time": "2024-10-28T15:19:44.606215Z",
     "start_time": "2024-10-28T15:19:40.648443Z"
    }
   },
   "source": [
    "import pyccl as ccl\n",
    "print(ccl.__version__)\n",
    "import numpy as np\n",
    "from scripts.metrics import Metrics\n",
    "import scripts.plotting as plot"
   ],
   "outputs": [
    {
     "name": "stdout",
     "output_type": "stream",
     "text": [
      "2.8.0\n"
     ]
    }
   ],
   "execution_count": 1
  },
  {
   "metadata": {
    "ExecuteTime": {
     "end_time": "2024-10-28T15:19:47.227392Z",
     "start_time": "2024-10-28T15:19:44.888075Z"
    }
   },
   "cell_type": "code",
   "source": [
    "cosmo = ccl.Cosmology(Omega_c=0.27, Omega_b=0.045, h=0.67, sigma8=0.83, n_s=0.96)\n",
    "redshift_range_1 = np.linspace(0, 3.5, 300)\n",
    "redshift_range_2 = np.linspace(0, 3.5, 2000)\n",
    "ells_1 = np.geomspace(20, 2000, 50)\n",
    "ells_2 = np.geomspace(20, 5000, 50)\n",
    "\n",
    "mtx_1 = Metrics(cosmo, redshift_range_1, ells_1)\n",
    "mtx_2 = Metrics(cosmo, redshift_range_2, ells_1)\n",
    "\n",
    "shear_1 = mtx_1.cosmic_shear_cls()\n",
    "shear_2 = mtx_2.cosmic_shear_cls()\n"
   ],
   "id": "f7bb0d20ac6210e5",
   "outputs": [],
   "execution_count": 2
  },
  {
   "metadata": {},
   "cell_type": "code",
   "source": "plot.compare_two_data_vector_sets_absolute(shear_1, shear_2, ells_1, ells_1)",
   "id": "fd16302e53d2e384",
   "outputs": [],
   "execution_count": null
  },
  {
   "metadata": {},
   "cell_type": "code",
   "source": [
    "plot.compare_two_data_vector_sets_relative(shear_1,\n",
    "                                           shear_2,\n",
    "                                           ells_1,\n",
    "                                           ells_1,\n",
    "                                           label_1=\"$n_z=300$\", \n",
    "                                           label_2=\"$n_z=2000$\")"
   ],
   "id": "18781bdd7d61e60d",
   "outputs": [],
   "execution_count": null
  },
  {
   "metadata": {},
   "cell_type": "code",
   "source": "",
   "id": "1697f064a512381c",
   "outputs": [],
   "execution_count": null
  }
 ],
 "metadata": {
  "kernelspec": {
   "display_name": "Python (fisk)",
   "language": "python",
   "name": "fisk"
  },
  "language_info": {
   "codemirror_mode": {
    "name": "ipython",
    "version": 2
   },
   "file_extension": ".py",
   "mimetype": "text/x-python",
   "name": "python",
   "nbconvert_exporter": "python",
   "pygments_lexer": "ipython2",
   "version": "2.7.6"
  }
 },
 "nbformat": 4,
 "nbformat_minor": 5
}
