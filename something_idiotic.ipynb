{
 "cells": [
  {
   "cell_type": "code",
   "id": "initial_id",
   "metadata": {
    "collapsed": true,
    "ExecuteTime": {
     "end_time": "2024-11-01T18:44:55.974637Z",
     "start_time": "2024-11-01T18:44:53.421514Z"
    }
   },
   "source": [
    "import pyccl as ccl\n",
    "print(f\"I am using pyccl version {ccl.__version__}\")\n",
    "import numpy as np\n",
    "from scripts.data_vectors import DataVectors\n",
    "import scripts.data_vector_metrics as h\n",
    "import scripts.plotting as p\n",
    "import matplotlib.pyplot as plt\n",
    "from scripts.presets import Presets\n",
    "from scripts.galaxy_bias import GalaxyBias"
   ],
   "outputs": [
    {
     "name": "stdout",
     "output_type": "stream",
     "text": [
      "I am using pyccl version 2.8.0\n"
     ]
    }
   ],
   "execution_count": 1
  },
  {
   "metadata": {
    "ExecuteTime": {
     "end_time": "2024-11-01T18:45:20.398908Z",
     "start_time": "2024-11-01T18:45:20.274006Z"
    }
   },
   "cell_type": "code",
   "source": [
    "redshift_max = 3.5\n",
    "redshift_resolution_1 = 300  # this is the first resolution of redshifts\n",
    "redshift_resolution_2 = 5000  # this is the second resolution of redshifts\n",
    "forecast_year = \"1\"\n",
    "# Please note that the redshift resolution is the number of redshifts between 0 and redshift_max.\n",
    "# Additionally, a lot of parametric sweeping is already coded into helper functions \n",
    "# so we will not need to worry about that for now.\n",
    "\n",
    "# We will also investigate ell binning but for this particular exercise,\n",
    "# we will keep the ell binning at default values.\n",
    "#ell_min = 20\n",
    "#ell_max = 2000\n",
    "#n_ell = 50\n",
    "\n",
    "# We now initialize the class by only passing the redshift information.\n",
    "presets1 = Presets(redshift_max=redshift_max,\n",
    "                  redshift_resolution=redshift_resolution_1,\n",
    "                  forecast_year=forecast_year)\n",
    "presets2 = Presets(redshift_max=redshift_max,\n",
    "                    redshift_resolution=redshift_resolution_2,\n",
    "                    forecast_year=forecast_year)\n",
    "z1 = presets1.redshift_range\n",
    "z2 = presets2.redshift_range\n",
    "\n",
    "gbias1 = GalaxyBias(presets1).get_galaxy_bias()\n",
    "gbias2 = GalaxyBias(presets2).get_galaxy_bias()"
   ],
   "id": "8477fc8f67739f73",
   "outputs": [],
   "execution_count": 4
  },
  {
   "metadata": {
    "ExecuteTime": {
     "end_time": "2024-11-01T18:45:31.134177Z",
     "start_time": "2024-11-01T18:45:31.129470Z"
    }
   },
   "cell_type": "code",
   "source": "gbias1",
   "id": "8d2876d60e2ea0fb",
   "outputs": [
    {
     "data": {
      "text/plain": [
       "{0: 1.250753, 1: 1.36551, 2: 1.500219, 3: 1.647517, 4: 1.798953}"
      ]
     },
     "execution_count": 5,
     "metadata": {},
     "output_type": "execute_result"
    }
   ],
   "execution_count": 5
  },
  {
   "metadata": {
    "ExecuteTime": {
     "end_time": "2024-11-01T18:45:33.622812Z",
     "start_time": "2024-11-01T18:45:33.618977Z"
    }
   },
   "cell_type": "code",
   "source": "gbias2",
   "id": "a9e216745b91026a",
   "outputs": [
    {
     "data": {
      "text/plain": [
       "{0: 1.250753, 1: 1.36551, 2: 1.500219, 3: 1.647517, 4: 1.791301}"
      ]
     },
     "execution_count": 6,
     "metadata": {},
     "output_type": "execute_result"
    }
   ],
   "execution_count": 6
  },
  {
   "metadata": {},
   "cell_type": "code",
   "outputs": [],
   "execution_count": null,
   "source": "",
   "id": "465012a5b2d36716"
  }
 ],
 "metadata": {
  "kernelspec": {
   "display_name": "Python (fisk)",
   "language": "python",
   "name": "fisk"
  },
  "language_info": {
   "codemirror_mode": {
    "name": "ipython",
    "version": 2
   },
   "file_extension": ".py",
   "mimetype": "text/x-python",
   "name": "python",
   "nbconvert_exporter": "python",
   "pygments_lexer": "ipython2",
   "version": "2.7.6"
  }
 },
 "nbformat": 4,
 "nbformat_minor": 5
}
