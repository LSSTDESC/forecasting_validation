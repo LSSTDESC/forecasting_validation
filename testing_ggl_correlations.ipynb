{
 "cells": [
  {
   "cell_type": "code",
   "execution_count": null,
   "id": "initial_id",
   "metadata": {
    "tags": []
   },
   "outputs": [],
   "source": []
  },
  {
   "cell_type": "markdown",
   "id": "c342b586-cce9-41d0-98ac-2debcc282e2b",
   "metadata": {},
   "source": [
    "# Testing assumptions for the GGL Lens/Source combinations\n",
    "\n",
    "The current SRD requires that the GGL measurement should only be performed with a given lens/source combination if $\\left<z_\\mathrm{lens}\\right> < \\left<z_\\mathrm{source}\\right>$ and the overlap of the two N(z)'s is < 10%. In this notebook we test to see if those assumptions are valid. These combinations are removed because it is expected that the signal will be very low, and will give us little cosmological information. Recent results from Cross & Sánchez (2024) show that while having lenses in front of the sources (Inverse Galaxy-Galaxy Lensing, or IGGL) does give small signal, it can still help measure instrinsic alignments (IA) and magnification bias, which can in turn improve constraints obtained by traditional GGL. This notebook explores these \"forbidden\" combinations to see what information we can extract from GGL, and balance that against the computation time required for adding the forbidden measurements. "
   ]
  },
  {
   "cell_type": "markdown",
   "id": "040d1529-53e4-48ee-87c8-831455eb45d7",
   "metadata": {},
   "source": [
    "## Generate Data Vectors\n",
    "\n",
    "Vectors to Generate (to discuss): \n",
    "\n",
    "- Without forbidden combinations (baseline)\n",
    "- With all forbidden combinations (most computationally expensive)\n",
    "- With forbidden combinations that have <10% overlap (testing magnification constraints)\n",
    "- With forbidden combinations that have >10% overlap (testing IA constraints) "
   ]
  },
  {
   "cell_type": "code",
   "execution_count": null,
   "id": "b60d6dcf-292e-442b-9f6a-65f49f43ca9a",
   "metadata": {},
   "outputs": [],
   "source": [
    "# generate using the DataVectors object in scripts/data_vectors.py\n",
    "#   to generate the forbidden pairs, look at line 330 in \n",
    "#   data_vectors, the galaxy_galaxy_lensing_correlations \n",
    "#   function in data_vectors.py"
   ]
  },
  {
   "cell_type": "markdown",
   "id": "621c879d-4714-4df2-91cf-4c9dfd7c24f7",
   "metadata": {},
   "source": [
    "### Calculate and Compare Signal-to-Noise for generated vectors"
   ]
  },
  {
   "cell_type": "code",
   "execution_count": null,
   "id": "8ee58a43-565e-4d7c-a38c-3c6f550f25b8",
   "metadata": {},
   "outputs": [],
   "source": [
    "# a function for this is in the data_vector_metrics file"
   ]
  }
 ],
 "metadata": {
  "kernelspec": {
   "display_name": "NERSC Python",
   "language": "python",
   "name": "python3"
  },
  "language_info": {
   "codemirror_mode": {
    "name": "ipython",
    "version": 3
   },
   "file_extension": ".py",
   "mimetype": "text/x-python",
   "name": "python",
   "nbconvert_exporter": "python",
   "pygments_lexer": "ipython3",
   "version": "3.11.7"
  }
 },
 "nbformat": 4,
 "nbformat_minor": 5
}
