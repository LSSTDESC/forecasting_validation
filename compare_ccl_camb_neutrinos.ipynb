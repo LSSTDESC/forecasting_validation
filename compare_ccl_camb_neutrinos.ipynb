{
 "cells": [
  {
   "cell_type": "markdown",
   "id": "8695686a-5adb-4bd1-b537-e7963c78ff7b",
   "metadata": {},
   "source": [
    "Check power spectrum with different neutrino mass\n",
    "\n",
    "Fixing Omega_m (ensures that k<0.02 does not change in amplitude)\n",
    "\n",
    "Comparision with CAMB"
   ]
  },
  {
   "cell_type": "markdown",
   "id": "99c0c258-f6f5-469c-be80-323a005cc49f",
   "metadata": {},
   "source": "# Imports"
  },
  {
   "cell_type": "code",
   "id": "2f847827-167c-4c75-b0c0-f5d7ec7b3be1",
   "metadata": {
    "tags": [],
    "ExecuteTime": {
     "end_time": "2024-12-05T14:45:07.388647Z",
     "start_time": "2024-12-05T14:45:07.042632Z"
    }
   },
   "source": [
    "from matplotlib import pyplot as plt\n",
    "import matplotlib.gridspec as gridspec\n",
    "import sys\n",
    "sys.path.append('./')\n",
    "# Reset to default Matplotlib settings\n",
    "plt.rcdefaults()\n",
    "from scripts import neutrino_test as nt\n"
   ],
   "outputs": [],
   "execution_count": 1
  },
  {
   "metadata": {},
   "cell_type": "markdown",
   "source": [
    "# Compute power spectra\n",
    "\n",
    "Here we compute the power spectra for different neutrino masses using both CAMB and CCL.\n",
    "We will call the functions defined in scripts/neutrino_test.py to compute the power spectra.\n",
    "These functions are (note: the ouptu is a tuple: k, P(k)):\n",
    "- `ccl_power_spectrum`: Computes the power spectrum using CCL.\n",
    "- `camb_power_spectrum`: Computes the power spectrum using CAMB.\n",
    "\n",
    "In this exercise we want to compare spectra with and without neutrinos obtained from both libraries, we will call the functions with and without the `mnu` parameter.\n",
    "Additionally, we also want to investigate how the power spectra change when fixing either $\\sigma_8$ or $A_s$.\n",
    "Since we defined our `CCL` and `CAMB` wrappers to work in the `sigma8` or `As` mode, we can call the functions with the `mode` parameter set to either `sigma8` or `As`.\n"
   ],
   "id": "db19dc50d82df307"
  },
  {
   "metadata": {},
   "cell_type": "markdown",
   "source": "## Preliminaries\n",
   "id": "652fa1be39ca9a52"
  },
  {
   "metadata": {
    "ExecuteTime": {
     "end_time": "2024-12-05T14:45:43.299919Z",
     "start_time": "2024-12-05T14:45:43.277892Z"
    }
   },
   "cell_type": "code",
   "source": [
    "# First we define our k range\n",
    "# Note that these values are set by default in the `neutrino_test.py` script\n",
    "# but, it is a good practice to define them here as well so the user is aware of them\n",
    "min_k = 1e-4\n",
    "max_k = 2\n",
    "num_k = 500\n",
    "\n",
    "# Next, we define two values of neutrino masses mnu to compare\n",
    "mnu_values = [0.0, 0.3]\n",
    "\n",
    "# As stated in the description, here we also define both modes to compare\n",
    "modes = [\"sigma8\", \"As\"]\n",
    "\n",
    "# Lastly, let us define a list of libraries to compare, we will use them in the next cell\n",
    "libraries = [\"camb\", \"ccl\"]\n",
    "\n",
    "# in cases when there are serveral configurations, it is good to define a dictionary to store the results\n",
    "pk_dict = {}\n",
    "\n",
    "# Define the mapping of libraries to their respective functions\n",
    "library_functions = {\n",
    "    \"camb\": nt.camb_power_spectrum,\n",
    "    \"ccl\": nt.ccl_power_spectrum\n",
    "}"
   ],
   "id": "4774dba76bbb5e19",
   "outputs": [],
   "execution_count": 2
  },
  {
   "cell_type": "code",
   "id": "49a3cd81-9b21-4789-90cc-07a8409df857",
   "metadata": {
    "tags": [],
    "ExecuteTime": {
     "end_time": "2024-12-05T14:46:25.329571Z",
     "start_time": "2024-12-05T14:45:51.539903Z"
    }
   },
   "source": [
    "%%time\n",
    "# Iterate over libraries, modes, and neutrino masses and store the power spectra in the dictionary\n",
    "for library in libraries:\n",
    "    pk_dict[library] = {}\n",
    "    for mode in modes:\n",
    "        pk_dict[library][mode] = {}\n",
    "        for mnu in mnu_values:\n",
    "            # Call the appropriate function\n",
    "            power_spectrum_function = library_functions[library]\n",
    "            k, pk = power_spectrum_function(mode=mode, mnu=mnu, min_k=min_k, max_k=max_k, num_k=num_k)\n",
    "            pk_dict[library][mode][f\"mnu={mnu}\"] = {\"k\": k, \"pk\": pk}\n"
   ],
   "outputs": [
    {
     "name": "stdout",
     "output_type": "stream",
     "text": [
      "sigma8: [0.8225]\n",
      "sigma8: [0.8225]\n",
      "sigma8: [0.51322095]\n",
      "sigma8: [0.47007233]\n",
      "CPU times: user 3min 28s, sys: 4.6 s, total: 3min 33s\n",
      "Wall time: 33.8 s\n"
     ]
    }
   ],
   "execution_count": 4
  },
  {
   "metadata": {
    "ExecuteTime": {
     "end_time": "2024-12-05T14:50:43.207019Z",
     "start_time": "2024-12-05T14:50:43.187468Z"
    }
   },
   "cell_type": "code",
   "source": [
    "# Check the keys in the dictionary so you can access the power spectra and plot them\n",
    "print(f\"Highest level keys: {pk_dict.keys()}\")\n",
    "print(f\"Second level keys: {pk_dict['camb'].keys()}\")\n",
    "print(f\"Third level keys: {pk_dict['camb']['sigma8'].keys()}\")\n",
    "print(f\"Fourth level keys: {pk_dict['camb']['sigma8']['mnu=0.0'].keys()}\")\n"
   ],
   "id": "a559b726b2066d43",
   "outputs": [
    {
     "name": "stdout",
     "output_type": "stream",
     "text": [
      "Highest level keys: dict_keys(['camb', 'ccl'])\n",
      "Second level keys: dict_keys(['sigma8', 'As'])\n",
      "Third level keys: dict_keys(['mnu=0.0', 'mnu=0.3'])\n",
      "Fourth level keys: dict_keys(['k', 'pk'])\n"
     ]
    }
   ],
   "execution_count": 5
  },
  {
   "metadata": {},
   "cell_type": "markdown",
   "source": [
    "K, now that we have computed the power spectra, we can also calcualte the ratios of the power spectra with and without neutrinos.\n",
    "We will calculate the ratios for both libraries and both modes."
   ],
   "id": "f021b74a7879f218"
  },
  {
   "metadata": {
    "ExecuteTime": {
     "end_time": "2024-12-05T14:51:08.934184Z",
     "start_time": "2024-12-05T14:51:08.928963Z"
    }
   },
   "cell_type": "code",
   "source": [
    "# Define dictionaries to store the ratios\n",
    "pk_ratios = {}\n",
    "\n",
    "# Iterate over libraries and modes\n",
    "for library in libraries:\n",
    "    pk_ratios[library] = {}\n",
    "    for mode in modes:\n",
    "        pk_ratios[library][mode] = {}\n",
    "        for mnu in mnu_values:\n",
    "            # Compute the ratio\n",
    "            pk_ratio = pk_dict[library][mode][f\"mnu={mnu}\"][\"pk\"] / pk_dict[library][mode][\"mnu=0.0\"][\"pk\"]\n",
    "            pk_ratios[library][mode][f\"mnu={mnu}\"] = pk_ratio\n"
   ],
   "id": "158aae63447df8b1",
   "outputs": [],
   "execution_count": 6
  },
  {
   "metadata": {
    "ExecuteTime": {
     "end_time": "2024-12-05T14:52:43.720294Z",
     "start_time": "2024-12-05T14:52:43.716352Z"
    }
   },
   "cell_type": "code",
   "source": [
    "# Again, check the keys in the dictionary so you can access the power spectra ratios and plot them\n",
    "print(f\"Highest level keys: {pk_ratios.keys()}\")\n",
    "print(f\"Second level keys: {pk_ratios['camb'].keys()}\")\n",
    "print(f\"Third level keys: {pk_ratios['camb']['sigma8'].keys()}\")\n"
   ],
   "id": "f0cc069fd5b53877",
   "outputs": [
    {
     "name": "stdout",
     "output_type": "stream",
     "text": [
      "Highest level keys: dict_keys(['camb', 'ccl'])\n",
      "Second level keys: dict_keys(['sigma8', 'As'])\n",
      "Third level keys: dict_keys(['mnu=0.0', 'mnu=0.3'])\n"
     ]
    }
   ],
   "execution_count": 9
  },
  {
   "metadata": {},
   "cell_type": "markdown",
   "source": [
    " # Plotting the power spectra and their ratios\n",
    "\n",
    "Now that we computed the power spectra and their ratios (for our desired configurations), we can plot them.\n"
   ],
   "id": "3a0611050cc5b591"
  },
  {
   "metadata": {
    "ExecuteTime": {
     "end_time": "2024-12-05T14:59:49.648237Z",
     "start_time": "2024-12-05T14:59:49.631245Z"
    }
   },
   "cell_type": "code",
   "source": [
    "# Define the colors, line styles, and line widths for the plots\n",
    "\n",
    "# First let us fetch the values of mnu we used and create string keys dynamically\n",
    "mnu_labels = {mnu: f\"mnu={mnu}\" for mnu in mnu_values}\n",
    "\n",
    "# Define the colors dictionary dynamically using mnu_values and multiple color schemes\n",
    "colors = {\n",
    "    library: {\n",
    "        mode: {mnu_labels[mnu]: color for mnu, color in zip(mnu_values, [\"darkorange\", \"teal\"] if mode == \"sigma8\" else [\"orangered\", \"darkslategrey\"])}\n",
    "        for mode in [\"sigma8\", \"As\"]\n",
    "    }\n",
    "    for library in [\"camb\", \"ccl\"]\n",
    "}\n",
    "\n",
    "# Print the resulting dictionary to verify\n",
    "print(colors)"
   ],
   "id": "e8db521d85ee5d0c",
   "outputs": [
    {
     "name": "stdout",
     "output_type": "stream",
     "text": [
      "{'camb': {'sigma8': {'mnu=0.0': 'darkorange', 'mnu=0.3': 'teal'}, 'As': {'mnu=0.0': 'orangered', 'mnu=0.3': 'darkslategrey'}}, 'ccl': {'sigma8': {'mnu=0.0': 'darkorange', 'mnu=0.3': 'teal'}, 'As': {'mnu=0.0': 'orangered', 'mnu=0.3': 'darkslategrey'}}}\n"
     ]
    }
   ],
   "execution_count": 12
  },
  {
   "metadata": {},
   "cell_type": "code",
   "source": [
    "# Create a figure with 6 subplots (2 rows, 3 columns)\n",
    "fig, axes = plt.subplots(2, 3, figsize=(18, 10), sharex=True)\n",
    "\n",
    "# Iterate over rows (first row for 'sigma8', second row for 'As')\n",
    "modes = [\"sigma8\", \"As\"]\n",
    "for row, mode in enumerate(modes):\n",
    "    # Iterate over columns (CAMB & CCL spectra, ratio CAMB/CCL no neutrino, ratio CAMB/CCL neutrino)\n",
    "    for col, scenario in enumerate([\"spectra\", \"ratio_no_nu\", \"ratio_with_nu\"]):\n",
    "        ax = axes[row, col]\n",
    "\n",
    "        if scenario == \"spectra\":\n",
    "            # Plot CAMB and CCL spectra for mnu=0 and mnu=0.3\n",
    "            for mnu in [\"mnu=0\", \"mnu=0.3\"]:\n",
    "                mnu_label = {\n",
    "                    \"mnu=0\": \"0\",\n",
    "                    \"mnu=0.3\": \"0.3\"\n",
    "                }\n",
    "                ax.loglog(\n",
    "                    pk[\"camb\"][mode][mnu][\"k\"],\n",
    "                    pk[\"camb\"][mode][mnu][\"pk\"],\n",
    "                    color=colors[\"camb\"][mode][mnu],\n",
    "                    ls=line_styles[\"camb\"][mode][mnu],\n",
    "                    linewidth=line_widths[\"camb\"][mode][mnu],\n",
    "                    label=f\"CAMB $m_{{\\\\nu}} = {mnu_label[mnu]}$\"\n",
    "                )\n",
    "                ax.loglog(\n",
    "                    pk[\"ccl\"][mode][mnu][\"k\"],\n",
    "                    pk[\"ccl\"][mode][mnu][\"pk\"],\n",
    "                    color=colors[\"ccl\"][mode][mnu],\n",
    "                    ls=line_styles[\"ccl\"][mode][mnu],\n",
    "                    linewidth=line_widths[\"ccl\"][mode][mnu],\n",
    "                    label=f\"CCL $m_{{\\\\nu}} = {mnu_label[mnu]}$\"\n",
    "                )\n",
    "            mode_label = {\n",
    "                \"sigma8\": \"$\\\\sigma_8$\",\n",
    "                \"As\": \"$A_s$\"\n",
    "            }\n",
    "            ax.set_ylabel(r\"$P(k)$\", fontsize=14)\n",
    "            ax.set_title(f\"$P(k)$ for {mode_label[mode]} fixed\", fontsize=16)\n",
    "            ax.legend()\n",
    "\n",
    "        elif scenario == \"ratio_no_nu\":\n",
    "            # Plot ratio of CAMB no neutrino to CCL no neutrino\n",
    "            ax.semilogx(\n",
    "                pk[\"ccl\"][mode][\"mnu=0\"][\"k\"],\n",
    "                pk[\"camb\"][mode][\"mnu=0\"][\"pk\"] / pk[\"ccl\"][mode][\"mnu=0\"][\"pk\"] - 1,\n",
    "                color=\"yellowgreen\",\n",
    "                ls=\"-\",\n",
    "                linewidth=3,\n",
    "                label=\"CAMB $m_{\\\\nu} = 0$ / CCL mnu=0\"\n",
    "            )\n",
    "            ax.set_ylabel(r\"$P(k)$ Ratio\", fontsize=14)\n",
    "            ax.set_title(f\"Ratio (No neutrinos): {mode}\", fontsize=16)\n",
    "\n",
    "        elif scenario == \"ratio_with_nu\":\n",
    "            # Plot ratio of CAMB with neutrino to CCL with neutrino\n",
    "            ax.semilogx(\n",
    "                pk[\"ccl\"][mode][\"mnu=0.3\"][\"k\"],\n",
    "                pk[\"camb\"][mode][\"mnu=0.3\"][\"pk\"] / pk[\"ccl\"][mode][\"mnu=0.3\"][\"pk\"] - 1,\n",
    "                color=\"cadetblue\",\n",
    "                ls=\"--\",\n",
    "                linewidth=3,\n",
    "                label=\"CAMB mnu=0.3 / CCL mnu=0.3\"\n",
    "            )\n",
    "            ax.set_ylabel(r\"$P(k)$ Ratio\", fontsize=14)\n",
    "            ax.set_title(f\"$P(k)$ Ratio (with neutrinos): {mode.upper()}\", fontsize=16)\n",
    "\n",
    "        # Common x-axis label for all subplots\n",
    "        ax.set_xlabel(r\"$k\\, [h\\, \\mathrm{Mpc}^{-1}]$\", fontsize=14)\n",
    "\n",
    "        # Add legend and grid\n",
    "        #ax.legend()\n",
    "        ax.grid(False)\n",
    "\n",
    "# Adjust layout and show plot\n",
    "#plt.tight_layout()\n",
    "plt.show()\n"
   ],
   "id": "24b846d9b13f987d",
   "outputs": [],
   "execution_count": null
  },
  {
   "metadata": {},
   "cell_type": "code",
   "source": [
    "fig, axes = plt.subplots(2, 2, figsize=(12, 10), sharex=True)\n",
    "\n",
    "# Iterate over rows (first row for 'sigma8', second row for 'As')\n",
    "modes = [\"sigma8\", \"As\"]\n",
    "for row, mode in enumerate(modes):\n",
    "    # First column for spectra, second column for combined ratios\n",
    "    for col, scenario in enumerate([\"spectra\", \"ratios\"]):\n",
    "        ax = axes[row, col]\n",
    "\n",
    "        if scenario == \"spectra\":\n",
    "            # Plot CAMB and CCL spectra for mnu=0 and mnu=0.3\n",
    "            for mnu in [\"mnu=0\", \"mnu=0.3\"]:\n",
    "                mnu_label = {\n",
    "                    \"mnu=0\": \"0\",\n",
    "                    \"mnu=0.3\": \"0.3\"\n",
    "                }\n",
    "                ax.loglog(\n",
    "                    pk[\"camb\"][mode][mnu][\"k\"],\n",
    "                    pk[\"camb\"][mode][mnu][\"pk\"],\n",
    "                    color=colors[\"camb\"][mode][mnu],\n",
    "                    ls=line_styles[\"camb\"][mode][mnu],\n",
    "                    linewidth=line_widths[\"camb\"][mode][mnu],\n",
    "                    label=f\"CAMB $m_{{\\\\nu}} = {mnu_label[mnu]}$\"\n",
    "                )\n",
    "                ax.loglog(\n",
    "                    pk[\"ccl\"][mode][mnu][\"k\"],\n",
    "                    pk[\"ccl\"][mode][mnu][\"pk\"],\n",
    "                    color=colors[\"ccl\"][mode][mnu],\n",
    "                    ls=line_styles[\"ccl\"][mode][mnu],\n",
    "                    linewidth=line_widths[\"ccl\"][mode][mnu],\n",
    "                    label=f\"CCL $m_{{\\\\nu}} = {mnu_label[mnu]}$\"\n",
    "                )\n",
    "            mode_label = {\n",
    "                \"sigma8\": \"$\\\\sigma_8$\",\n",
    "                \"As\": \"$A_s$\"\n",
    "            }\n",
    "            ax.set_ylabel(r\"$P(k)$\", fontsize=14)\n",
    "            ax.set_title(f\"$P(k)$ for {mode_label[mode]} fixed\", fontsize=16)\n",
    "            ax.legend()\n",
    "\n",
    "        elif scenario == \"ratios\":\n",
    "            # Plot both ratios in the same subplot\n",
    "            ax.semilogx(\n",
    "                pk[\"ccl\"][mode][\"mnu=0\"][\"k\"],\n",
    "                pk[\"camb\"][mode][\"mnu=0\"][\"pk\"] / pk[\"ccl\"][mode][\"mnu=0\"][\"pk\"] - 1,\n",
    "                color=\"yellowgreen\",\n",
    "                ls=\"-\",\n",
    "                linewidth=3,\n",
    "                label=\"No Neutrino: CAMB/CCL\"\n",
    "            )\n",
    "            ax.semilogx(\n",
    "                pk[\"ccl\"][mode][\"mnu=0.3\"][\"k\"],\n",
    "                pk[\"camb\"][mode][\"mnu=0.3\"][\"pk\"] / pk[\"ccl\"][mode][\"mnu=0.3\"][\"pk\"] - 1,\n",
    "                color=\"cadetblue\",\n",
    "                ls=\"--\",\n",
    "                linewidth=3,\n",
    "                label=\"With Neutrino: CAMB/CCL\"\n",
    "            )\n",
    "            ax.set_ylabel(r\"$P(k)$ Ratio\", fontsize=14)\n",
    "            ax.set_title(f\"$P(k)$ Ratios for {mode.upper()}\", fontsize=16)\n",
    "            ax.legend()\n",
    "\n",
    "        # Common x-axis label for all subplots\n",
    "        ax.set_xlabel(r\"$k\\, [h\\, \\mathrm{Mpc}^{-1}]$\", fontsize=14)\n",
    "\n",
    "        # Add grid and remove if not wanted\n",
    "        ax.grid(False)\n",
    "\n",
    "# Adjust layout and show plot\n",
    "plt.tight_layout()\n",
    "plt.show()\n"
   ],
   "id": "4cdf1195b1bad6f5",
   "outputs": [],
   "execution_count": null
  },
  {
   "metadata": {},
   "cell_type": "code",
   "source": [
    "# Create figure and gridspec for side-by-side plots with residuals\n",
    "fig = plt.figure(figsize=(18, 10))\n",
    "gs = gridspec.GridSpec(2, 2, height_ratios=[3, 1], hspace=0.05, wspace=0.3)  # Adjust spacing\n",
    "\n",
    "modes = [\"sigma8\", \"As\"]\n",
    "mode_labels = {\"sigma8\": \"$\\\\sigma_8$\", \"As\": \"$A_s$\"}\n",
    "\n",
    "for i, mode in enumerate(modes):\n",
    "    # Main spectra plot\n",
    "    ax_main = fig.add_subplot(gs[0, i])\n",
    "    for mnu in [\"mnu=0\", \"mnu=0.3\"]:\n",
    "        mnu_label = {\"mnu=0\": \"0\", \"mnu=0.3\": \"0.3\"}\n",
    "        ax_main.loglog(\n",
    "            pk[\"camb\"][mode][mnu][\"k\"],\n",
    "            pk[\"camb\"][mode][mnu][\"pk\"],\n",
    "            label=f\"CAMB $m_{{\\\\nu}} = {mnu_label[mnu]}$\"\n",
    "        )\n",
    "        ax_main.loglog(\n",
    "            pk[\"ccl\"][mode][mnu][\"k\"],\n",
    "            pk[\"ccl\"][mode][mnu][\"pk\"],\n",
    "            label=f\"CCL $m_{{\\\\nu}} = {mnu_label[mnu]}$\"\n",
    "        )\n",
    "    ax_main.set_ylabel(r\"$P(k)$\", fontsize=14)\n",
    "    ax_main.set_title(f\"$P(k)$ for {mode_labels[mode]} fixed\", fontsize=16)\n",
    "    ax_main.legend()\n",
    "    ax_main.grid(False)\n",
    "\n",
    "    # Residuals plot\n",
    "    ax_residuals = fig.add_subplot(gs[1, i], sharex=ax_main)\n",
    "    ax_residuals.semilogy(\n",
    "        pk[\"ccl\"][mode][\"mnu=0\"][\"k\"],\n",
    "        abs(pk[\"camb\"][mode][\"mnu=0\"][\"pk\"] / pk[\"ccl\"][mode][\"mnu=0\"][\"pk\"] - 1),\n",
    "        color=\"yellowgreen\",\n",
    "        ls=\"-\",\n",
    "        linewidth=2,\n",
    "        label=\"No Neutrino: CAMB/CCL\"\n",
    "    )\n",
    "    ax_residuals.semilogy(\n",
    "        pk[\"ccl\"][mode][\"mnu=0.3\"][\"k\"],\n",
    "        abs(pk[\"camb\"][mode][\"mnu=0.3\"][\"pk\"] / pk[\"ccl\"][mode][\"mnu=0.3\"][\"pk\"] - 1),\n",
    "        color=\"cadetblue\",\n",
    "        ls=\"--\",\n",
    "        linewidth=2,\n",
    "        label=\"With Neutrino: CAMB/CCL\"\n",
    "    )\n",
    "    ax_residuals.set_ylabel(r\"Residual\", fontsize=14)\n",
    "    ax_residuals.set_xlabel(r\"$k\\, [h\\, \\mathrm{Mpc}^{-1}]$\", fontsize=14)\n",
    "    ax_residuals.axhline(0, color=\"gray\", lw=1, ls=\"--\")  # Reference line at zero\n",
    "    ax_residuals.legend()\n",
    "    ax_residuals.grid(False)\n",
    "\n",
    "# Automatically adjust layout\n",
    "#plt.tight_layout()\n",
    "plt.show()\n"
   ],
   "id": "44d89a300b71e4b3",
   "outputs": [],
   "execution_count": null
  },
  {
   "metadata": {},
   "cell_type": "code",
   "source": [
    "plt.loglog(k_camb, pk2_camb[0,:], color='r', ls = '-',label = 'nu=0.3')\n",
    "plt.loglog(k_camb, pk_camb[0,:], color='b', ls = '-',label = 'nu=0.')\n",
    "\n",
    "plt.loglog(camb_k, camb_pk2[0,:], color='r', ls = ':',label = 'nu=0.3')\n",
    "plt.loglog(camb_k, camb_pk[0,:], color='b', ls = '',label = 'nu=0.')\n",
    "\n",
    "plt.legend()\n",
    "plt.ylabel('$PK$')\n",
    "plt.xlabel(r'$k\\, [h \\,\\rm{Mpc}^{-1}]$')\n",
    "plt.title('CAMB, fixing sigma8')\n",
    "plt.grid(False)"
   ],
   "id": "e425ef333df71339",
   "outputs": [],
   "execution_count": null
  },
  {
   "cell_type": "code",
   "id": "340e249e-a8ce-47e7-b585-48f0cc95e17f",
   "metadata": {
    "tags": []
   },
   "source": [
    "plt.loglog(k_ccl, pk2_ccl, color='r', ls = '-',label = 'nu=0.3')\n",
    "plt.loglog(k_ccl, pk_ccl, color='b', ls = '-',label = 'nu=0.')\n",
    "plt.legend()\n",
    "plt.ylabel('$PK$')\n",
    "plt.xlabel(r'$k\\, [h \\,\\rm{Mpc}^{-1}]$')\n",
    "plt.title('CCL, fixing sigma8')"
   ],
   "outputs": [],
   "execution_count": null
  },
  {
   "cell_type": "code",
   "id": "6b30bf8c-62a5-4d8c-942f-6fd65e57d0c1",
   "metadata": {
    "tags": []
   },
   "source": [
    "#can not make CCL and camb match when I fix sigm8\n",
    "\n",
    "plt.loglog(k, pk_ccl, color='r', ls = '-',label = 'CCL')\n",
    "plt.loglog(k_camb, pk_camb[0,:], color='b', ls = '-',label = 'CAMB')\n",
    "plt.title('nu=0 sigma8 fixed')\n",
    "plt.legend()\n"
   ],
   "outputs": [],
   "execution_count": null
  },
  {
   "cell_type": "code",
   "id": "048f05f7-9f83-4272-98a6-8715ba6b22d5",
   "metadata": {
    "tags": []
   },
   "source": [
    "k_camb,pk_camb = Pk_camb(mode = \"As\")\n",
    "k_camb,pk2_camb = Pk_camb(mode = \"As\",mnu = 0.3)\n",
    "\n",
    "plt.loglog(k_camb, pk2_camb[0,:], color='r', ls = '-',label = 'nu=0.3')\n",
    "plt.loglog(k_camb, pk_camb[0,:], color='b', ls = '-',label = 'nu=0.')\n",
    "plt.legend()\n",
    "plt.ylabel('$PK$')\n",
    "plt.xlabel(r'$k\\, [h \\,\\rm{Mpc}^{-1}]$')\n",
    "plt.title('CAMB, fixing As')"
   ],
   "outputs": [],
   "execution_count": null
  },
  {
   "cell_type": "code",
   "id": "3aecabd9-4a00-41be-98cb-f4aa158f06e4",
   "metadata": {
    "tags": []
   },
   "source": [
    "k,pk_ccl = Pk_ccl(mode = \"As\")\n",
    "k,pk2_ccl = Pk_ccl(mode = \"As\", mnu = 0.3)\n",
    "\n",
    "plt.loglog(k, pk2_ccl, color='r', ls = '-',label = 'nu=0.3')\n",
    "plt.loglog(k, pk_ccl, color='b', ls = '-',label = 'nu=0.')\n",
    "plt.legend()\n",
    "plt.ylabel('$PK$')\n",
    "plt.xlabel(r'$k\\, [h \\,\\rm{Mpc}^{-1}]$')\n",
    "plt.title('CCL, fixing As')"
   ],
   "outputs": [],
   "execution_count": null
  },
  {
   "cell_type": "code",
   "id": "81087b04-5500-424c-95cf-4a9ee5b25d7c",
   "metadata": {
    "tags": []
   },
   "source": [],
   "outputs": [],
   "execution_count": null
  },
  {
   "cell_type": "code",
   "id": "acd1e1b7-86a2-470b-a682-01e8f80c5008",
   "metadata": {
    "tags": []
   },
   "source": [
    "#When fixing As, they look more similar \n",
    "#however, the nu=0.3/nu=0 does not match (different model?)\n",
    "\n",
    "plt.loglog(k, pk_ccl, color='r', ls = '-',label = 'CCL nu=0')\n",
    "plt.loglog(k_camb, pk_camb[0,:], color='b', ls = '--',label = 'CAMB nu=0')\n",
    "\n",
    "\n",
    "plt.loglog(k, pk2_ccl, color='C1', ls = '-',label = 'CCL nu=0.3')\n",
    "plt.loglog(k_camb, pk2_camb[0,:], color='C0', ls = '--',label = 'CAMB nu=0.3')\n",
    "plt.title('As fixed')\n",
    "plt.legend()"
   ],
   "outputs": [],
   "execution_count": null
  },
  {
   "cell_type": "code",
   "id": "970a88ea-3c58-4ece-be7c-eb8a3464c7e7",
   "metadata": {
    "tags": []
   },
   "source": [
    "#When fixing As, they look more similar \n",
    "#however, the nu=0.3/nu=0 does not match (different model?)\n",
    "\n",
    "plt.semilogx(k, pk_ccl, color='r', ls = '-',label = 'CCL nu=0')\n",
    "plt.semilogx(k_camb, pk_camb[0,:], color='b', ls = '--',label = 'CAMB nu=0')\n",
    "\n",
    "\n",
    "plt.semilogx(k, pk2_ccl, color='C1', ls = '-',label = 'CCL nu=0.3')\n",
    "plt.semilogx(k_camb, pk2_camb[0,:], color='C0', ls = '--',label = 'CAMB nu=0.3')\n",
    "plt.title('As fixed')\n",
    "plt.legend()\n",
    "\n",
    "plt.gca().set_ylim((6000,10000))\n",
    "plt.gca().set_xlim((6e-3,4e-2))"
   ],
   "outputs": [],
   "execution_count": null
  },
  {
   "cell_type": "code",
   "id": "326769ec-f4b9-44fd-ab50-8037bd12c1d8",
   "metadata": {
    "tags": []
   },
   "source": [],
   "outputs": [],
   "execution_count": null
  },
  {
   "cell_type": "code",
   "id": "dce43bdb-8a20-48e3-ad37-20860285b6d5",
   "metadata": {
    "tags": []
   },
   "source": [
    "plt.semilogx(k_camb, pk2_camb[0,:]/pk_camb[0,:], color='r', ls = '-', label = 'CAMB ')\n",
    "plt.semilogx(k, pk2_ccl/pk_ccl, color='b', ls = '-',label = 'CCL ')\n",
    "\n",
    "plt.xlabel(r'$k\\, [h \\,\\rm{Mpc}^{-1}]$')\n",
    "plt.ylabel(r'$Pk(nu=0.3)/Pk(nu=0.0)$')\n",
    "plt.legend()\n",
    "plt.title('As fixed')"
   ],
   "outputs": [],
   "execution_count": null
  },
  {
   "cell_type": "code",
   "id": "a6d9d258-0b9f-4b54-81a8-477902254adf",
   "metadata": {
    "tags": []
   },
   "source": [],
   "outputs": [],
   "execution_count": null
  },
  {
   "cell_type": "code",
   "id": "f6d45245-388f-4753-974e-fafe4eb4c52e",
   "metadata": {
    "tags": []
   },
   "source": [],
   "outputs": [],
   "execution_count": null
  },
  {
   "cell_type": "code",
   "id": "b9938991-1d38-4976-b9ab-8accfb784977",
   "metadata": {
    "tags": []
   },
   "source": [],
   "outputs": [],
   "execution_count": null
  },
  {
   "cell_type": "code",
   "id": "c28d366a-27de-4c79-ba60-76462d1e7145",
   "metadata": {
    "tags": []
   },
   "source": [],
   "outputs": [],
   "execution_count": null
  },
  {
   "cell_type": "code",
   "id": "4d1aa2a0-705b-4c88-a803-c981b0a70c40",
   "metadata": {
    "tags": []
   },
   "source": [],
   "outputs": [],
   "execution_count": null
  },
  {
   "cell_type": "code",
   "id": "acdb3f39-971c-4c8f-92d9-052733029db6",
   "metadata": {
    "tags": []
   },
   "source": [],
   "outputs": [],
   "execution_count": null
  },
  {
   "cell_type": "code",
   "id": "f17f89bb-47ce-4ebf-86e9-3e8a921be8e8",
   "metadata": {
    "tags": []
   },
   "source": [],
   "outputs": [],
   "execution_count": null
  },
  {
   "cell_type": "code",
   "id": "2c66daf2-db52-4e57-b30c-b8436294d307",
   "metadata": {},
   "source": [],
   "outputs": [],
   "execution_count": null
  }
 ],
 "metadata": {
  "kernelspec": {
   "display_name": "Python 3 (ipykernel)",
   "language": "python",
   "name": "python3"
  },
  "language_info": {
   "codemirror_mode": {
    "name": "ipython",
    "version": 3
   },
   "file_extension": ".py",
   "mimetype": "text/x-python",
   "name": "python",
   "nbconvert_exporter": "python",
   "pygments_lexer": "ipython3",
   "version": "3.11.4"
  }
 },
 "nbformat": 4,
 "nbformat_minor": 5
}
