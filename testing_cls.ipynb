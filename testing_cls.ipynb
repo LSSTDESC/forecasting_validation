{
 "cells": [
  {
   "cell_type": "code",
   "id": "initial_id",
   "metadata": {},
   "source": [
    "import pyccl as ccl\n",
    "print(f\"I am using pyccl version {ccl.__version__}\")\n",
    "import numpy as np\n",
    "from scripts.data_vectors import DataVectors\n",
    "from scripts.presets import Presets\n",
    "import scripts.plotting as p\n",
    "from scripts.data_vector_metrics import DataVectorMetrics"
   ],
   "outputs": [],
   "execution_count": null
  },
  {
   "cell_type": "code",
   "id": "22c165a8e6abdb1f",
   "metadata": {},
   "source": [
    "redshift_max = 3.5\n",
    "redshift_resolution_1 = 300  # this is the first resolution of redshifts\n",
    "redshift_resolution_2 = 5000  # this is the second resolution of redshifts\n",
    "forecast_year = \"10\"\n",
    "# Please note that the redshift resolution is the number of redshifts between 0 and redshift_max.\n",
    "# Additionally, a lot of parametric sweeping is already coded into helper functions \n",
    "# so we will not need to worry about that for now.\n",
    "\n",
    "# We will also investigate ell binning but for this particular exercise,\n",
    "# we will keep the ell binning at default values.\n",
    "#ell_min = 20\n",
    "#ell_max = 2000\n",
    "#n_ell = 50\n",
    "\n",
    "# We now initialize the class by only passing the redshift information.\n",
    "presets1 = Presets(redshift_max=redshift_max,\n",
    "                  redshift_resolution=redshift_resolution_1,\n",
    "                  forecast_year=forecast_year)\n",
    "presets2 = Presets(redshift_max=redshift_max,\n",
    "                    redshift_resolution=redshift_resolution_2,\n",
    "                    forecast_year=forecast_year)\n",
    "\n",
    "redshift1 = presets1.redshift_range\n",
    "redshift2 = presets2.redshift_range\n",
    "\n",
    "dv1 = DataVectors(presets1)\n",
    "dv2 = DataVectors(presets2)\n",
    "ells1 = dv1.ells\n",
    "ells2 = dv2.ells\n",
    "\n",
    "shear_cls_1 = dv1.cosmic_shear_cls(include_all_correlations=True)\n",
    "shear_cls_2 = dv2.cosmic_shear_cls(include_all_correlations=True)\n",
    "\n",
    "clu_cls_1 = dv1.galaxy_clustering_cls(include_all_correlations=True)\n",
    "clu_cls_2 = dv2.galaxy_clustering_cls(include_all_correlations=True)\n",
    "\n",
    "ggl_cls_1 = dv1.galaxy_galaxy_lensing_cls(include_all_correlations=True)\n",
    "ggl_cls_2 = dv2.galaxy_galaxy_lensing_cls(include_all_correlations=True)\n",
    "\n",
    "wl_kernel1 = dv1.get_wl_kernel()\n",
    "wl_kernel2 = dv2.get_wl_kernel()\n",
    "\n",
    "nc_kernel1 = dv1.get_nc_kernel()\n",
    "nc_kernel2 = dv2.get_nc_kernel()"
   ],
   "outputs": [],
   "execution_count": null
  },
  {
   "metadata": {},
   "cell_type": "code",
   "source": [
    "# Initialize DataVectorMetrics for both redshift resolutions\n",
    "dvm1 = DataVectorMetrics(presets1)\n",
    "dvm2 = DataVectorMetrics(presets2)\n",
    "\n",
    "# Compute chi-squared differences using both methods\n",
    "delta_chi2_method_1 = dvm1.get_delta_chi2(cls_gc=clu_cls_1, cls_ggl=ggl_cls_1, cls_cs=shear_cls_1,\n",
    "                                          cls_gc_ref=clu_cls_2, cls_ggl_ref=ggl_cls_2, cls_cs_ref=shear_cls_2)\n",
    "\n",
    "delta_chi2_method_2 = dvm1.get_delta_chi2robert(cl_gc=clu_cls_1, cl_ggl=ggl_cls_1, cl_cs=shear_cls_1,\n",
    "                                                cl_gc_1=clu_cls_2, cl_ggl_1=ggl_cls_2, cl_cs_1=shear_cls_2)\n",
    "\n",
    "# Check if results are consistent\n",
    "print(\"Delta Chi-squared (New Method):\", delta_chi2_method_1)\n",
    "print(\"Delta Chi-squared (Robert's Method):\", delta_chi2_method_2)\n",
    "\n",
    "# Compare the results\n",
    "difference = np.abs(delta_chi2_method_1 - delta_chi2_method_2)\n",
    "print(\"Difference between methods:\", difference)\n"
   ],
   "id": "352f468697fd2a88",
   "outputs": [],
   "execution_count": null
  },
  {
   "metadata": {},
   "cell_type": "code",
   "source": "p.compare_two_data_vector_sets_absolute(shear_cls_1, shear_cls_2, ells1, ells2)",
   "id": "4bdb7c4222579661",
   "outputs": [],
   "execution_count": null
  },
  {
   "metadata": {},
   "cell_type": "code",
   "source": [
    "p.compare_two_data_vector_sets_relative(shear_cls_1,\n",
    "                                        shear_cls_2,\n",
    "                                        ells1,\n",
    "                                        label_1=f\"$n_z={redshift_resolution_1}$\", \n",
    "                                        label_2=f\"$n_z={redshift_resolution_2}$\")"
   ],
   "id": "1c98044be6430024",
   "outputs": [],
   "execution_count": null
  },
  {
   "metadata": {},
   "cell_type": "code",
   "source": [
    "p.compare_two_data_vector_sets_relative(clu_cls_1,\n",
    "                                        clu_cls_2,\n",
    "                                        ells1,\n",
    "                                        label_1=f\"$n_z={redshift_resolution_1}$\",\n",
    "                                        label_2=f\"$n_z={redshift_resolution_2}$\")"
   ],
   "id": "343ecfb682842c35",
   "outputs": [],
   "execution_count": null
  },
  {
   "cell_type": "code",
   "source": [],
   "id": "39d862aa82484123",
   "metadata": {},
   "outputs": [],
   "execution_count": null
  }
 ],
 "metadata": {
  "kernelspec": {
   "display_name": "Python (fisk)",
   "language": "python",
   "name": "fisk"
  },
  "language_info": {
   "codemirror_mode": {
    "name": "ipython",
    "version": 3
   },
   "file_extension": ".py",
   "mimetype": "text/x-python",
   "name": "python",
   "nbconvert_exporter": "python",
   "pygments_lexer": "ipython3",
   "version": "3.12.5"
  }
 },
 "nbformat": 4,
 "nbformat_minor": 5
}
