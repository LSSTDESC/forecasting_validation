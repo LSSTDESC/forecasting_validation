{
 "cells": [
  {
   "cell_type": "code",
   "id": "initial_id",
   "metadata": {
    "ExecuteTime": {
     "end_time": "2024-11-01T11:28:05.612648Z",
     "start_time": "2024-11-01T11:28:02.940591Z"
    }
   },
   "source": [
    "import pyccl as ccl\n",
    "print(f\"I am using pyccl version {ccl.__version__}\")\n",
    "import numpy as np\n",
    "from scripts.data_vectors import DataVectors\n",
    "from scripts.presets import Presets\n",
    "import scripts.plotting as p\n",
    "import matplotlib.pyplot as plt\n",
    "from scripts.data_vector_metrics import DataVectorMetrics"
   ],
   "outputs": [
    {
     "name": "stdout",
     "output_type": "stream",
     "text": [
      "I am using pyccl version 2.8.0\n"
     ]
    }
   ],
   "execution_count": 1
  },
  {
   "cell_type": "code",
   "id": "22c165a8e6abdb1f",
   "metadata": {
    "ExecuteTime": {
     "end_time": "2024-11-01T11:28:09.771542Z",
     "start_time": "2024-11-01T11:28:05.622183Z"
    }
   },
   "source": [
    "redshift_max = 4\n",
    "redshift_resolution_1 = 300  # this is the first resolution of redshifts\n",
    "redshift_resolution_2 = 5000  # this is the second resolution of redshifts\n",
    "forecast_year = \"10\"\n",
    "# Please note that the redshift resolution is the number of redshifts between 0 and redshift_max.\n",
    "# Additionally, a lot of parametric sweeping is already coded into helper functions \n",
    "# so we will not need to worry about that for now.\n",
    "\n",
    "# We will also investigate ell binning but for this particular exercise,\n",
    "# we will keep the ell binning at default values.\n",
    "#ell_min = 20\n",
    "#ell_max = 2000\n",
    "#n_ell = 50\n",
    "\n",
    "# We now initialize the class by only passing the redshift information.\n",
    "presets1 = Presets(redshift_max=redshift_max,\n",
    "                  redshift_resolution=redshift_resolution_1,\n",
    "                  forecast_year=forecast_year)\n",
    "presets2 = Presets(redshift_max=redshift_max,\n",
    "                    redshift_resolution=redshift_resolution_2,\n",
    "                    forecast_year=forecast_year)\n",
    "\n",
    "redshift1 = presets1.redshift_range\n",
    "redshift2 = presets2.redshift_range\n",
    "\n",
    "dv1 = DataVectors(presets1)\n",
    "dv2 = DataVectors(presets2)\n",
    "ells1 = dv1.ells\n",
    "ells2 = dv2.ells\n",
    "\n",
    "shear_cls_1 = dv1.cosmic_shear_cls(include_all_correlations=True)\n",
    "shear_cls_2 = dv2.cosmic_shear_cls(include_all_correlations=True)\n",
    "\n",
    "clu_cls_1 = dv1.galaxy_clustering_cls(include_all_correlations=True)\n",
    "clu_cls_2 = dv2.galaxy_clustering_cls(include_all_correlations=True)\n",
    "\n",
    "ggl_cls_1 = dv1.galaxy_galaxy_lensing_cls(include_all_correlations=True)\n",
    "ggl_cls_2 = dv2.galaxy_galaxy_lensing_cls(include_all_correlations=True)\n",
    "\n",
    "wl_kernel1 = dv1.get_wl_kernel()\n",
    "wl_kernel2 = dv2.get_wl_kernel()\n",
    "\n",
    "nc_kernel1 = dv1.get_nc_kernel()\n",
    "nc_kernel2 = dv2.get_nc_kernel()"
   ],
   "outputs": [
    {
     "name": "stdout",
     "output_type": "stream",
     "text": [
      "Data saved to data_output/angular_power_spectra/cosmic_shear_correlations_all_y10.npy\n",
      "Data saved to data_output/angular_power_spectra/cosmic_shear_cls_all_y10_zmax4_zres300_ccl_v2.8.0.npy\n",
      "Data saved to data_output/angular_power_spectra/cosmic_shear_correlations_all_y10.npy\n",
      "Data saved to data_output/angular_power_spectra/cosmic_shear_cls_all_y10_zmax4_zres5000_ccl_v2.8.0.npy\n",
      "Data saved to data_output/angular_power_spectra/galaxy_clustering_correlations_all_y10.npy\n",
      "Data saved to data_output/angular_power_spectra/galaxy_clustering_cls_all_y10_zmax4_zres300_ccl_v2.8.0.npy\n",
      "Data saved to data_output/angular_power_spectra/galaxy_clustering_correlations_all_y10.npy\n",
      "Data saved to data_output/angular_power_spectra/galaxy_clustering_cls_all_y10_zmax4_zres5000_ccl_v2.8.0.npy\n",
      "Data saved to data_output/angular_power_spectra/galaxy_galaxy_lensing_correlations_all_y10.npy\n",
      "Data saved to data_output/angular_power_spectra/galaxy_galaxy_lensing_cls_all_y10_zmax4_zres300_ccl_v2.8.0.npy\n",
      "Data saved to data_output/angular_power_spectra/galaxy_galaxy_lensing_correlations_all_y10.npy\n",
      "Data saved to data_output/angular_power_spectra/galaxy_galaxy_lensing_cls_all_y10_zmax4_zres5000_ccl_v2.8.0.npy\n"
     ]
    }
   ],
   "execution_count": 2
  },
  {
   "metadata": {
    "ExecuteTime": {
     "end_time": "2024-11-01T11:28:10.136932Z",
     "start_time": "2024-11-01T11:28:10.070680Z"
    }
   },
   "cell_type": "code",
   "source": [
    "# Initialize DataVectorMetrics for both redshift resolutions\n",
    "dvm1 = DataVectorMetrics(presets1)\n",
    "dvm2 = DataVectorMetrics(presets2)\n",
    "\n",
    "# Compute chi-squared differences using both methods\n",
    "delta_chi2_method_1 = dvm1.get_delta_chi2(cls_gc=clu_cls_1, cls_ggl=ggl_cls_1, cls_cs=shear_cls_1,\n",
    "                                          cls_gc_ref=clu_cls_2, cls_ggl_ref=ggl_cls_2, cls_cs_ref=shear_cls_2)\n",
    "\n",
    "delta_chi2_method_2 = dvm1.get_delta_chi2robert(cl_gc=clu_cls_1, cl_ggl=ggl_cls_1, cl_cs=shear_cls_1,\n",
    "                                                cl_gc_1=clu_cls_2, cl_ggl_1=ggl_cls_2, cl_cs_1=shear_cls_2)\n",
    "\n",
    "# Check if results are consistent\n",
    "print(\"Delta Chi-squared (New Method):\", delta_chi2_method_1)\n",
    "print(\"Delta Chi-squared (Robert's Method):\", delta_chi2_method_2)\n",
    "\n",
    "# Compare the results\n",
    "difference = np.abs(delta_chi2_method_1 - delta_chi2_method_2)\n",
    "print(\"Difference between methods:\", difference)\n"
   ],
   "id": "352f468697fd2a88",
   "outputs": [
    {
     "name": "stdout",
     "output_type": "stream",
     "text": [
      "Delta Chi-squared (New Method): 0.0006009402177101176\n",
      "Delta Chi-squared (Robert's Method): 0.0006009402177101176\n",
      "Difference between methods: 0.0\n"
     ]
    }
   ],
   "execution_count": 3
  },
  {
   "cell_type": "code",
   "id": "c84767a83ae75f8b",
   "metadata": {
    "ExecuteTime": {
     "end_time": "2024-11-01T11:29:03.829192Z",
     "start_time": "2024-11-01T11:28:10.241049Z"
    }
   },
   "source": [
    "%%time\n",
    "kernel_sweep = dvm1.kernel_peaks_z_resolution_sweep()"
   ],
   "outputs": [
    {
     "name": "stdout",
     "output_type": "stream",
     "text": [
      "CPU times: user 5min 23s, sys: 26.2 s, total: 5min 49s\n",
      "Wall time: 53.6 s\n"
     ]
    }
   ],
   "execution_count": 4
  },
  {
   "metadata": {
    "ExecuteTime": {
     "end_time": "2024-11-01T11:29:25.429249Z",
     "start_time": "2024-11-01T11:29:25.424184Z"
    }
   },
   "cell_type": "code",
   "source": "kernel_sweep[300][\"wl\"]",
   "id": "b2bee37272ef10af",
   "outputs": [
    {
     "data": {
      "text/plain": [
       "[(0.1605351170568562, 7.595413790224368e-06),\n",
       " (0.294314381270903, 1.6556020234604254e-05),\n",
       " (0.4414715719063545, 2.5143600566470706e-05),\n",
       " (0.6153846153846154, 3.6351322276534464e-05),\n",
       " (0.9632107023411371, 5.809876776090023e-05)]"
      ]
     },
     "execution_count": 8,
     "metadata": {},
     "output_type": "execute_result"
    }
   ],
   "execution_count": 8
  },
  {
   "metadata": {},
   "cell_type": "code",
   "source": [
    "p.plot_kernel_peaks_subplots(kernel_sweep,\n",
    "                               forecast_year=forecast_year,\n",
    "                               kernel_type=\"wl\",\n",
    "                               percentage=0.1,\n",
    "                               marker_size=5,\n",
    "                               stability_steps=10,\n",
    "                               fig_format=\".pdf\",\n",
    "                               title_pad=0.95)\n"
   ],
   "id": "21e8f2bcab55c0e9",
   "outputs": [],
   "execution_count": null
  },
  {
   "metadata": {},
   "cell_type": "code",
   "source": [
    "peaks1 = []\n",
    "peaks2 = []\n",
    "\n",
    "for i, kernel in enumerate(wl_kernel1):\n",
    "    peak_index = np.argmax(kernel)      # Index of the maximum value in the kernel\n",
    "    peak_redshift = redshift1[peak_index]  # Redshift at which the peak occurs\n",
    "    peak_value = kernel[peak_index]     # Peak value itself\n",
    "    peaks1.append((peak_redshift, peak_value))\n",
    "\n",
    "    # Plot each kernel with a marker at the peak\n",
    "    plt.plot(redshift1, kernel, label=f\"Kernel {i}\")\n",
    "    plt.plot(peak_redshift, peak_value, 'o', label=f\"Peak {i} (z={peak_redshift:.2f})\")\n",
    "    \n",
    "\n",
    "plt.xlabel(\"Redshift\")\n",
    "plt.ylabel(\"Kernel Value\")\n",
    "#plt.legend()\n",
    "plt.show()\n",
    "peaks1\n"
   ],
   "id": "705b463d3f06448f",
   "outputs": [],
   "execution_count": null
  },
  {
   "metadata": {},
   "cell_type": "code",
   "source": [
    "peaks2 = []\n",
    "\n",
    "for i, kernel in enumerate(wl_kernel2):\n",
    "    peak_index = np.argmax(kernel)      # Index of the maximum value in the kernel\n",
    "    peak_redshift = redshift2[peak_index]  # Redshift at which the peak occurs\n",
    "    peak_value = kernel[peak_index]     # Peak value itself\n",
    "    peaks2.append((peak_redshift, peak_value))\n",
    "\n",
    "    # Plot each kernel with a marker at the peak\n",
    "    plt.plot(redshift2, kernel, label=f\"Kernel {i}\")\n",
    "    plt.plot(peak_redshift, peak_value, 'o', label=f\"Peak {i} (z={peak_redshift:.2f})\")\n",
    "    \n",
    "\n",
    "plt.xlabel(\"Redshift\")\n",
    "plt.ylabel(\"Kernel Value\")\n",
    "#plt.legend()\n",
    "plt.show()\n"
   ],
   "id": "16700a9a1de693d4",
   "outputs": [],
   "execution_count": null
  },
  {
   "metadata": {},
   "cell_type": "code",
   "source": [
    "for i in range(len(peaks1)):\n",
    "    plt.scatter(peaks1[i][0], peaks1[i][1],)\n",
    "    plt.scatter(peaks2[i][0], peaks1[i][1], marker=\"v\")"
   ],
   "id": "5b6f67b4f6777709",
   "outputs": [],
   "execution_count": null
  },
  {
   "metadata": {},
   "cell_type": "code",
   "source": [
    "for i in range(len(peaks1)):\n",
    "    plt.scatter(peaks1[i][0], peaks1[i][1]/peaks2[i][1],)"
   ],
   "id": "57798f85df628416",
   "outputs": [],
   "execution_count": null
  },
  {
   "metadata": {},
   "cell_type": "code",
   "source": "p.compare_two_data_vector_sets_absolute(shear_cls_1, shear_cls_2, ells1, ells2)",
   "id": "4bdb7c4222579661",
   "outputs": [],
   "execution_count": null
  },
  {
   "metadata": {},
   "cell_type": "code",
   "source": [
    "p.compare_two_data_vector_sets_relative(shear_cls_1,\n",
    "                                        shear_cls_2,\n",
    "                                        ells1,\n",
    "                                        label_1=f\"$n_z={redshift_resolution_1}$\", \n",
    "                                        label_2=f\"$n_z={redshift_resolution_2}$\")"
   ],
   "id": "1c98044be6430024",
   "outputs": [],
   "execution_count": null
  },
  {
   "metadata": {},
   "cell_type": "code",
   "source": [
    "p.compare_two_data_vector_sets_relative(clu_cls_1,\n",
    "                                        clu_cls_2,\n",
    "                                        ells1,\n",
    "                                        label_1=f\"$n_z={redshift_resolution_1}$\",\n",
    "                                        label_2=f\"$n_z={redshift_resolution_2}$\")"
   ],
   "id": "343ecfb682842c35",
   "outputs": [],
   "execution_count": null
  },
  {
   "cell_type": "code",
   "source": [],
   "id": "39d862aa82484123",
   "metadata": {},
   "outputs": [],
   "execution_count": null
  }
 ],
 "metadata": {
  "kernelspec": {
   "display_name": "Python (fisk)",
   "language": "python",
   "name": "fisk"
  },
  "language_info": {
   "codemirror_mode": {
    "name": "ipython",
    "version": 3
   },
   "file_extension": ".py",
   "mimetype": "text/x-python",
   "name": "python",
   "nbconvert_exporter": "python",
   "pygments_lexer": "ipython3",
   "version": "3.12.5"
  }
 },
 "nbformat": 4,
 "nbformat_minor": 5
}
