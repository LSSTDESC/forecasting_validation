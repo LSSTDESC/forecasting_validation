{
 "cells": [
  {
   "cell_type": "code",
   "execution_count": 18,
   "metadata": {},
   "outputs": [
    {
     "name": "stdout",
     "output_type": "stream",
     "text": [
      "I am using pyccl version 3.0.2\n"
     ]
    }
   ],
   "source": [
    "import pyccl as ccl\n",
    "print(f\"I am using pyccl version {ccl.__version__}\")\n",
    "import numpy as np\n",
    "import matplotlib.pyplot as plt\n",
    "from scripts.presets import Presets\n",
    "from scripts.data_vectors import DataVectors\n",
    "from scripts.data_vector_metrics import DataVectorMetrics\n"
   ]
  },
  {
   "cell_type": "code",
   "execution_count": 19,
   "metadata": {},
   "outputs": [],
   "source": [
    "# This analysis will be done for a cosmology with the following parameters\n",
    "# if you want to change the cosmology, you can do it here or just run without it.\n",
    "# For now, we will keep it as is.\n",
    "#cosmo = ccl.Cosmology(Omega_c=0.27, Omega_b=0.045, h=0.67, sigma8=0.83, n_s=0.96)\n",
    "\n",
    "# The class has default values for the maximal redshift and the resolution of redshifts.\n",
    "# You can change them if you want to or run the default values.\n",
    "# Since we are investigating the impact of the resolution of redshifts,\n",
    "# we will keep the maximal redshift as is (for now) and only change the redshift resolution.\n",
    "redshift_max = 3.5\n",
    "redshift_resolution_1 = 300  # this is the first resolution of redshifts\n",
    "redshift_resolution_2 = 5000  # this is the second resolution of redshifts\n",
    "# Please note that the redshift resolution is the number of redshifts between 0 and redshift_max.\n",
    "# Additionally, a lot of parametric sweeping is already coded into helper functions \n",
    "# so we will not need to worry about that for now.\n",
    "\n",
    "# We will also investigate ell binning but for this particular exercise,\n",
    "# we will keep the ell binning at default values.\n",
    "#ell_min = 20\n",
    "#ell_max = 2000\n",
    "#n_ell = 50\n"
   ]
  },
  {
   "cell_type": "code",
   "execution_count": 28,
   "metadata": {},
   "outputs": [
    {
     "name": "stdout",
     "output_type": "stream",
     "text": [
      "0\n"
     ]
    },
    {
     "ename": "KeyboardInterrupt",
     "evalue": "",
     "output_type": "error",
     "traceback": [
      "\u001B[0;31m---------------------------------------------------------------------------\u001B[0m",
      "\u001B[0;31mKeyboardInterrupt\u001B[0m                         Traceback (most recent call last)",
      "Cell \u001B[0;32mIn[28], line 26\u001B[0m\n\u001B[1;32m     24\u001B[0m cl_gc_1 \u001B[38;5;241m=\u001B[39m np\u001B[38;5;241m.\u001B[39marray(data_1\u001B[38;5;241m.\u001B[39mgalaxy_clustering_cls(include_all_correlations\u001B[38;5;241m=\u001B[39m\u001B[38;5;28;01mTrue\u001B[39;00m))\n\u001B[1;32m     25\u001B[0m cl_ggl_1 \u001B[38;5;241m=\u001B[39m np\u001B[38;5;241m.\u001B[39marray(data_1\u001B[38;5;241m.\u001B[39mgalaxy_galaxy_lensing_cls(include_all_correlations\u001B[38;5;241m=\u001B[39m\u001B[38;5;28;01mTrue\u001B[39;00m))\n\u001B[0;32m---> 26\u001B[0m cl_cs_1 \u001B[38;5;241m=\u001B[39m np\u001B[38;5;241m.\u001B[39marray(\u001B[43mdata_1\u001B[49m\u001B[38;5;241;43m.\u001B[39;49m\u001B[43mcosmic_shear_cls\u001B[49m\u001B[43m(\u001B[49m\u001B[43minclude_all_correlations\u001B[49m\u001B[38;5;241;43m=\u001B[39;49m\u001B[38;5;28;43;01mTrue\u001B[39;49;00m\u001B[43m)\u001B[49m)\n\u001B[1;32m     28\u001B[0m metric \u001B[38;5;241m=\u001B[39m DataVectorMetrics(presets)\n\u001B[1;32m     29\u001B[0m chi2[i_max,i_res] \u001B[38;5;241m=\u001B[39m metric\u001B[38;5;241m.\u001B[39mget_delta_chi2(cl_gc, cl_ggl, cl_cs,cl_gc_1, cl_ggl_1, cl_cs_1)\n",
      "File \u001B[0;32m~/Documents/Git/forecasting_validation/scripts/data_vectors.py:64\u001B[0m, in \u001B[0;36mDataVectors.cosmic_shear_cls\u001B[0;34m(self, include_ia, include_all_correlations)\u001B[0m\n\u001B[1;32m     62\u001B[0m \u001B[38;5;66;03m# Generate angular power spectra\u001B[39;00m\n\u001B[1;32m     63\u001B[0m \u001B[38;5;28;01mfor\u001B[39;00m idx_1, idx_2 \u001B[38;5;129;01min\u001B[39;00m correlation_pairs:\n\u001B[0;32m---> 64\u001B[0m     tracer1 \u001B[38;5;241m=\u001B[39m \u001B[43mccl\u001B[49m\u001B[38;5;241;43m.\u001B[39;49m\u001B[43mWeakLensingTracer\u001B[49m\u001B[43m(\u001B[49m\n\u001B[1;32m     65\u001B[0m \u001B[43m        \u001B[49m\u001B[38;5;28;43mself\u001B[39;49m\u001B[38;5;241;43m.\u001B[39;49m\u001B[43mcosmology\u001B[49m\u001B[43m,\u001B[49m\n\u001B[1;32m     66\u001B[0m \u001B[43m        \u001B[49m\u001B[43mdndz\u001B[49m\u001B[38;5;241;43m=\u001B[39;49m\u001B[43m(\u001B[49m\u001B[38;5;28;43mself\u001B[39;49m\u001B[38;5;241;43m.\u001B[39;49m\u001B[43mredshift_range\u001B[49m\u001B[43m,\u001B[49m\u001B[43m \u001B[49m\u001B[38;5;28;43mself\u001B[39;49m\u001B[38;5;241;43m.\u001B[39;49m\u001B[43msource_bins\u001B[49m\u001B[43m[\u001B[49m\u001B[43midx_1\u001B[49m\u001B[43m]\u001B[49m\u001B[43m)\u001B[49m\u001B[43m,\u001B[49m\n\u001B[1;32m     67\u001B[0m \u001B[43m        \u001B[49m\u001B[43mia_bias\u001B[49m\u001B[38;5;241;43m=\u001B[39;49m\u001B[43mia_bias\u001B[49m\n\u001B[1;32m     68\u001B[0m \u001B[43m    \u001B[49m\u001B[43m)\u001B[49m\n\u001B[1;32m     69\u001B[0m     tracer2 \u001B[38;5;241m=\u001B[39m ccl\u001B[38;5;241m.\u001B[39mWeakLensingTracer(\n\u001B[1;32m     70\u001B[0m         \u001B[38;5;28mself\u001B[39m\u001B[38;5;241m.\u001B[39mcosmology,\n\u001B[1;32m     71\u001B[0m         dndz\u001B[38;5;241m=\u001B[39m(\u001B[38;5;28mself\u001B[39m\u001B[38;5;241m.\u001B[39mredshift_range, \u001B[38;5;28mself\u001B[39m\u001B[38;5;241m.\u001B[39msource_bins[idx_2]),\n\u001B[1;32m     72\u001B[0m         ia_bias\u001B[38;5;241m=\u001B[39mia_bias\n\u001B[1;32m     73\u001B[0m     )\n\u001B[1;32m     75\u001B[0m     cl_values \u001B[38;5;241m=\u001B[39m ccl\u001B[38;5;241m.\u001B[39mangular_cl(\u001B[38;5;28mself\u001B[39m\u001B[38;5;241m.\u001B[39mcosmology, tracer1, tracer2, \u001B[38;5;28mself\u001B[39m\u001B[38;5;241m.\u001B[39mells)\n",
      "File \u001B[0;32m/opt/anaconda3/envs/levinpower_env/lib/python3.12/site-packages/pyccl/tracers.py:898\u001B[0m, in \u001B[0;36mWeakLensingTracer\u001B[0;34m(cosmo, dndz, has_shear, ia_bias, use_A_ia, n_samples)\u001B[0m\n\u001B[1;32m    895\u001B[0m     tracer\u001B[38;5;241m.\u001B[39m_dndz \u001B[38;5;241m=\u001B[39m interp1d(z_n, n, bounds_error\u001B[38;5;241m=\u001B[39m\u001B[38;5;28;01mFalse\u001B[39;00m, fill_value\u001B[38;5;241m=\u001B[39m\u001B[38;5;241m0\u001B[39m)\n\u001B[1;32m    897\u001B[0m \u001B[38;5;28;01mif\u001B[39;00m has_shear:\n\u001B[0;32m--> 898\u001B[0m     kernel_l \u001B[38;5;241m=\u001B[39m \u001B[43mget_lensing_kernel\u001B[49m\u001B[43m(\u001B[49m\u001B[43mcosmo\u001B[49m\u001B[43m,\u001B[49m\u001B[43m \u001B[49m\u001B[43mdndz\u001B[49m\u001B[38;5;241;43m=\u001B[39;49m\u001B[43mdndz\u001B[49m\u001B[43m,\u001B[49m\u001B[43m \u001B[49m\u001B[43mn_chi\u001B[49m\u001B[38;5;241;43m=\u001B[39;49m\u001B[43mn_samples\u001B[49m\u001B[43m)\u001B[49m\n\u001B[1;32m    899\u001B[0m     \u001B[38;5;28;01mif\u001B[39;00m (cosmo[\u001B[38;5;124m'\u001B[39m\u001B[38;5;124msigma_0\u001B[39m\u001B[38;5;124m'\u001B[39m] \u001B[38;5;241m==\u001B[39m \u001B[38;5;241m0\u001B[39m):\n\u001B[1;32m    900\u001B[0m         \u001B[38;5;66;03m# GR case\u001B[39;00m\n\u001B[1;32m    901\u001B[0m         tracer\u001B[38;5;241m.\u001B[39madd_tracer(cosmo, kernel\u001B[38;5;241m=\u001B[39mkernel_l,\n\u001B[1;32m    902\u001B[0m                           der_bessel\u001B[38;5;241m=\u001B[39m\u001B[38;5;241m-\u001B[39m\u001B[38;5;241m1\u001B[39m, der_angles\u001B[38;5;241m=\u001B[39m\u001B[38;5;241m2\u001B[39m)\n",
      "File \u001B[0;32m/opt/anaconda3/envs/levinpower_env/lib/python3.12/site-packages/pyccl/tracers.py:162\u001B[0m, in \u001B[0;36mget_lensing_kernel\u001B[0;34m(cosmo, dndz, mag_bias, n_chi)\u001B[0m\n\u001B[1;32m    159\u001B[0m chi, status \u001B[38;5;241m=\u001B[39m lib\u001B[38;5;241m.\u001B[39mget_chis_lensing_kernel_wrapper(cosmo\u001B[38;5;241m.\u001B[39mcosmo, z_n[\u001B[38;5;241m-\u001B[39m\u001B[38;5;241m1\u001B[39m],\n\u001B[1;32m    160\u001B[0m                                                   n_chi, status)\n\u001B[1;32m    161\u001B[0m \u001B[38;5;66;03m# Compute kernel\u001B[39;00m\n\u001B[0;32m--> 162\u001B[0m wchi, status \u001B[38;5;241m=\u001B[39m \u001B[43mlib\u001B[49m\u001B[38;5;241;43m.\u001B[39;49m\u001B[43mget_lensing_kernel_wrapper\u001B[49m\u001B[43m(\u001B[49m\u001B[43mcosmo\u001B[49m\u001B[38;5;241;43m.\u001B[39;49m\u001B[43mcosmo\u001B[49m\u001B[43m,\u001B[49m\n\u001B[1;32m    163\u001B[0m \u001B[43m                                              \u001B[49m\u001B[43mz_n\u001B[49m\u001B[43m,\u001B[49m\u001B[43m \u001B[49m\u001B[43mn\u001B[49m\u001B[43m,\u001B[49m\u001B[43m \u001B[49m\u001B[43mz_n\u001B[49m\u001B[43m[\u001B[49m\u001B[38;5;241;43m-\u001B[39;49m\u001B[38;5;241;43m1\u001B[39;49m\u001B[43m]\u001B[49m\u001B[43m,\u001B[49m\n\u001B[1;32m    164\u001B[0m \u001B[43m                                              \u001B[49m\u001B[38;5;28;43mint\u001B[39;49m\u001B[43m(\u001B[49m\u001B[43mhas_magbias\u001B[49m\u001B[43m)\u001B[49m\u001B[43m,\u001B[49m\u001B[43m \u001B[49m\u001B[43mz_s\u001B[49m\u001B[43m,\u001B[49m\u001B[43m \u001B[49m\u001B[43ms\u001B[49m\u001B[43m,\u001B[49m\n\u001B[1;32m    165\u001B[0m \u001B[43m                                              \u001B[49m\u001B[43mchi\u001B[49m\u001B[43m,\u001B[49m\u001B[43m \u001B[49m\u001B[43mn_chi\u001B[49m\u001B[43m,\u001B[49m\u001B[43m \u001B[49m\u001B[43mstatus\u001B[49m\u001B[43m)\u001B[49m\n\u001B[1;32m    166\u001B[0m check(status, cosmo\u001B[38;5;241m=\u001B[39mcosmo)\n\u001B[1;32m    167\u001B[0m \u001B[38;5;28;01mreturn\u001B[39;00m chi, wchi\n",
      "File \u001B[0;32m/opt/anaconda3/envs/levinpower_env/lib/python3.12/site-packages/pyccl/ccllib.py:1166\u001B[0m, in \u001B[0;36mget_lensing_kernel_wrapper\u001B[0;34m(cosmo, z_n, n, z_max, has_magbias, z_b, b, chi_s, nout, status)\u001B[0m\n\u001B[1;32m   1162\u001B[0m \u001B[38;5;28;01mif\u001B[39;00m numpy\u001B[38;5;241m.\u001B[39mshape(z_b) \u001B[38;5;241m!=\u001B[39m numpy\u001B[38;5;241m.\u001B[39mshape(b):\n\u001B[1;32m   1163\u001B[0m     \u001B[38;5;28;01mraise\u001B[39;00m CCLError(\u001B[38;5;124m\"\u001B[39m\u001B[38;5;124mInput shape for `z_b` must match `b`!\u001B[39m\u001B[38;5;124m\"\u001B[39m)\n\u001B[0;32m-> 1166\u001B[0m \u001B[38;5;28;01mreturn\u001B[39;00m \u001B[43m_ccllib\u001B[49m\u001B[38;5;241;43m.\u001B[39;49m\u001B[43mget_lensing_kernel_wrapper\u001B[49m\u001B[43m(\u001B[49m\u001B[43mcosmo\u001B[49m\u001B[43m,\u001B[49m\u001B[43m \u001B[49m\u001B[43mz_n\u001B[49m\u001B[43m,\u001B[49m\u001B[43m \u001B[49m\u001B[43mn\u001B[49m\u001B[43m,\u001B[49m\u001B[43m \u001B[49m\u001B[43mz_max\u001B[49m\u001B[43m,\u001B[49m\u001B[43m \u001B[49m\u001B[43mhas_magbias\u001B[49m\u001B[43m,\u001B[49m\u001B[43m \u001B[49m\u001B[43mz_b\u001B[49m\u001B[43m,\u001B[49m\u001B[43m \u001B[49m\u001B[43mb\u001B[49m\u001B[43m,\u001B[49m\u001B[43m \u001B[49m\u001B[43mchi_s\u001B[49m\u001B[43m,\u001B[49m\u001B[43m \u001B[49m\u001B[43mnout\u001B[49m\u001B[43m,\u001B[49m\u001B[43m \u001B[49m\u001B[43mstatus\u001B[49m\u001B[43m)\u001B[49m\n",
      "\u001B[0;31mKeyboardInterrupt\u001B[0m: "
     ]
    }
   ],
   "source": [
    "# This is the fiducial\n",
    "forecast_year = \"1\"\n",
    "presets = Presets(forecast_year=forecast_year, should_save_data=False)\n",
    "data = DataVectors(presets)\n",
    "cl_gc = np.array(data.galaxy_clustering_cls(include_all_correlations=True))\n",
    "cl_ggl = np.array(data.galaxy_galaxy_lensing_cls(include_all_correlations=True))\n",
    "cl_cs = np.array(data.cosmic_shear_cls(include_all_correlations=True))\n",
    "\n",
    "N = 25\n",
    "zet_max = np.linspace(3.,5,N)\n",
    "zet_res = np.geomspace(500,10000,N).astype(int)\n",
    "chi2 = np.zeros((N,N))\n",
    "\n",
    "for i_max, val_max in enumerate(zet_max):\n",
    "    for i_res, val_res in enumerate(zet_res):\n",
    "        presets_1 = Presets(redshift_max=val_max,\n",
    "                        redshift_resolution=val_res,\n",
    "                        forecast_year=forecast_year,\n",
    "                            should_save_data=False)\n",
    "\n",
    "        data_1 = DataVectors(presets_1)\n",
    "        cl_gc_1 = np.array(data_1.galaxy_clustering_cls(include_all_correlations=True))\n",
    "        cl_ggl_1 = np.array(data_1.galaxy_galaxy_lensing_cls(include_all_correlations=True))\n",
    "        cl_cs_1 = np.array(data_1.cosmic_shear_cls(include_all_correlations=True))\n",
    "\n",
    "        metric = DataVectorMetrics(presets)\n",
    "        chi2[i_max,i_res] = metric.get_delta_chi2(cl_gc, cl_ggl, cl_cs,cl_gc_1, cl_ggl_1, cl_cs_1)\n",
    "fname = \"./data_output/chi2/chi2_sweep_zmax_zres_y\" + forecast_year \n",
    "np.savez(fname, zet_res=zet_res, zet_max=zet_max, chi2=chi2)"
   ]
  },
  {
   "cell_type": "code",
   "execution_count": 25,
   "metadata": {},
   "outputs": [
    {
     "data": {
      "image/png": "[encoded data removed]",
      "text/plain": [
       "<Figure size 640x480 with 2 Axes>"
      ]
     },
     "metadata": {},
     "output_type": "display_data"
    }
   ],
   "source": [
    "from matplotlib import cm, ticker\n",
    "\n",
    "fontsi = 20\n",
    "fontsi2 = 20\n",
    "\n",
    "\n",
    "fig = plt.figure()\n",
    "ax = fig.add_subplot()\n",
    "plt.rc('text', usetex=True)\n",
    "\n",
    "\n",
    "CS = plt.contourf(zet_max,zet_res,chi2.T,cmap = \"cividis\")#,  locator=ticker.LogLocator())\n",
    "cb = plt.colorbar(CS)\n",
    "plt.xlabel(r\"$z_\\mathrm{max}$\", fontsize = fontsi)\n",
    "plt.ylabel(r\"$N_z$\", fontsize = fontsi)\n",
    "cb.set_label(r'$\\Delta\\chi^2$', fontsize=fontsi)\n",
    "plt.tick_params(labelsize=fontsi2)\n",
    "\n",
    "#plt.xscale(\"log\")\n",
    "#plt.yscale(\"log\")\n",
    "\n",
    "for t in cb.ax.get_yticklabels():\n",
    "    t.set_fontsize(fontsi2)\n",
    "plt.tight_layout()\n",
    "fname = \"./plots_output/chi2_zet_params_y\" + forecast_year + \".pdf\"\n",
    "plt.savefig(fname)\n"
   ]
  },
  {
   "cell_type": "code",
   "execution_count": 29,
   "metadata": {},
   "outputs": [
    {
     "name": "stdout",
     "output_type": "stream",
     "text": [
      "0\n",
      "1\n",
      "2\n",
      "3\n"
     ]
    },
    {
     "name": "stderr",
     "output_type": "stream",
     "text": [
      "WARNING 18: ccl_cls.c: integ_cls_limber_qag_quad(): Default GSL integration failure, attempting backup method.: GSL ERROR: roundoff error\n",
      "WARNING 18: ccl_cls.c: integ_cls_limber_qag_quad(): Default GSL integration failure, attempting backup method.: GSL ERROR: roundoff error\n",
      "WARNING 18: ccl_cls.c: integ_cls_limber_qag_quad(): Default GSL integration failure, attempting backup method.: GSL ERROR: roundoff error\n",
      "WARNING 18: ccl_cls.c: integ_cls_limber_qag_quad(): Default GSL integration failure, attempting backup method.: GSL ERROR: roundoff error\n"
     ]
    },
    {
     "name": "stdout",
     "output_type": "stream",
     "text": [
      "4\n"
     ]
    },
    {
     "name": "stderr",
     "output_type": "stream",
     "text": [
      "WARNING 18: ccl_cls.c: integ_cls_limber_qag_quad(): Default GSL integration failure, attempting backup method.: GSL ERROR: roundoff error\n",
      "WARNING 18: ccl_cls.c: integ_cls_limber_qag_quad(): Default GSL integration failure, attempting backup method.: GSL ERROR: roundoff error\n",
      "WARNING 18: ccl_cls.c: integ_cls_limber_qag_quad(): Default GSL integration failure, attempting backup method.: GSL ERROR: roundoff error\n",
      "WARNING 18: ccl_cls.c: integ_cls_limber_qag_quad(): Default GSL integration failure, attempting backup method.: GSL ERROR: roundoff error\n"
     ]
    },
    {
     "name": "stdout",
     "output_type": "stream",
     "text": [
      "5\n"
     ]
    },
    {
     "name": "stderr",
     "output_type": "stream",
     "text": [
      "WARNING 18: ccl_cls.c: integ_cls_limber_qag_quad(): Default GSL integration failure, attempting backup method.: GSL ERROR: roundoff error\n"
     ]
    },
    {
     "name": "stdout",
     "output_type": "stream",
     "text": [
      "6\n"
     ]
    },
    {
     "name": "stderr",
     "output_type": "stream",
     "text": [
      "WARNING 18: ccl_cls.c: integ_cls_limber_qag_quad(): Default GSL integration failure, attempting backup method.: GSL ERROR: roundoff error\n",
      "WARNING 18: ccl_cls.c: integ_cls_limber_qag_quad(): Default GSL integration failure, attempting backup method.: GSL ERROR: roundoff error\n"
     ]
    },
    {
     "name": "stdout",
     "output_type": "stream",
     "text": [
      "7\n"
     ]
    },
    {
     "name": "stderr",
     "output_type": "stream",
     "text": [
      "WARNING 18: ccl_cls.c: integ_cls_limber_qag_quad(): Default GSL integration failure, attempting backup method.: GSL ERROR: roundoff error\n"
     ]
    },
    {
     "name": "stdout",
     "output_type": "stream",
     "text": [
      "8\n"
     ]
    },
    {
     "name": "stderr",
     "output_type": "stream",
     "text": [
      "WARNING 18: ccl_cls.c: integ_cls_limber_qag_quad(): Default GSL integration failure, attempting backup method.: GSL ERROR: roundoff error\n",
      "WARNING 18: ccl_cls.c: integ_cls_limber_qag_quad(): Default GSL integration failure, attempting backup method.: GSL ERROR: roundoff error\n",
      "WARNING 18: ccl_cls.c: integ_cls_limber_qag_quad(): Default GSL integration failure, attempting backup method.: GSL ERROR: roundoff error\n",
      "WARNING 18: ccl_cls.c: integ_cls_limber_qag_quad(): Default GSL integration failure, attempting backup method.: GSL ERROR: roundoff error\n",
      "WARNING 18: ccl_cls.c: integ_cls_limber_qag_quad(): Default GSL integration failure, attempting backup method.: GSL ERROR: roundoff error\n",
      "WARNING 18: ccl_cls.c: integ_cls_limber_qag_quad(): Default GSL integration failure, attempting backup method.: GSL ERROR: roundoff error\n",
      "WARNING 18: ccl_cls.c: integ_cls_limber_qag_quad(): Default GSL integration failure, attempting backup method.: GSL ERROR: roundoff error\n",
      "WARNING 18: ccl_cls.c: integ_cls_limber_qag_quad(): Default GSL integration failure, attempting backup method.: GSL ERROR: roundoff error\n",
      "WARNING 18: ccl_cls.c: integ_cls_limber_qag_quad(): Default GSL integration failure, attempting backup method.: GSL ERROR: roundoff error\n",
      "WARNING 18: ccl_cls.c: integ_cls_limber_qag_quad(): Default GSL integration failure, attempting backup method.: GSL ERROR: roundoff error\n",
      "WARNING 18: ccl_cls.c: integ_cls_limber_qag_quad(): Default GSL integration failure, attempting backup method.: GSL ERROR: roundoff error\n",
      "WARNING 18: ccl_cls.c: integ_cls_limber_qag_quad(): Default GSL integration failure, attempting backup method.: GSL ERROR: roundoff error\n",
      "WARNING 18: ccl_cls.c: integ_cls_limber_qag_quad(): Default GSL integration failure, attempting backup method.: GSL ERROR: roundoff error\n",
      "WARNING 18: ccl_cls.c: integ_cls_limber_qag_quad(): Default GSL integration failure, attempting backup method.: GSL ERROR: roundoff error\n",
      "WARNING 18: ccl_cls.c: integ_cls_limber_qag_quad(): Default GSL integration failure, attempting backup method.: GSL ERROR: roundoff error\n",
      "WARNING 18: ccl_cls.c: integ_cls_limber_qag_quad(): Default GSL integration failure, attempting backup method.: GSL ERROR: roundoff error\n",
      "WARNING 18: ccl_cls.c: integ_cls_limber_qag_quad(): Default GSL integration failure, attempting backup method.: GSL ERROR: roundoff error\n"
     ]
    },
    {
     "name": "stdout",
     "output_type": "stream",
     "text": [
      "9\n",
      "10\n",
      "11\n",
      "12\n",
      "13\n",
      "14\n",
      "15\n",
      "16\n",
      "17\n",
      "18\n",
      "19\n",
      "20\n",
      "21\n",
      "22\n",
      "23\n",
      "24\n"
     ]
    }
   ],
   "source": [
    "forecast_year = \"10\"\n",
    "presets = Presets(forecast_year=forecast_year, should_save_data=False)\n",
    "data = DataVectors(presets)\n",
    "cl_gc = np.array(data.galaxy_clustering_cls(include_all_correlations=True))\n",
    "cl_ggl = np.array(data.galaxy_galaxy_lensing_cls(include_all_correlations=True))\n",
    "cl_cs = np.array(data.cosmic_shear_cls(include_all_correlations=True))\n",
    "\n",
    "\n",
    "N = 25\n",
    "zet_max = np.linspace(3.,5,N)\n",
    "zet_res = np.geomspace(500,10000,N).astype(int)\n",
    "chi2 = np.zeros((N,N))\n",
    "\n",
    "for i_max, val_max in enumerate(zet_max):\n",
    "    for i_res, val_res in enumerate(zet_res):\n",
    "        presets_1 = Presets(redshift_max=val_max,\n",
    "                        redshift_resolution=val_res,\n",
    "                        forecast_year=forecast_year,should_save_data=False)\n",
    "\n",
    "        data_1 = DataVectors(presets_1)\n",
    "        cl_gc_1 = np.array(data_1.galaxy_clustering_cls(include_all_correlations=True))\n",
    "        cl_ggl_1 = np.array(data_1.galaxy_galaxy_lensing_cls(include_all_correlations=True))\n",
    "        cl_cs_1 = np.array(data_1.cosmic_shear_cls(include_all_correlations=True))\n",
    "\n",
    "        metric = DataVectorMetrics(presets)\n",
    "        chi2[i_max,i_res] = metric.get_delta_chi2(cl_gc, cl_ggl, cl_cs,cl_gc_1, cl_ggl_1, cl_cs_1)\n",
    "\n",
    "file = \"./data_output/chi2/chi2_sweep_zmax_zres_y\" + forecast_year \n",
    "np.savez(file, zet_res=zet_res, zet_max=zet_max, chi2=chi2)"
   ]
  },
  {
   "cell_type": "code",
   "execution_count": 30,
   "metadata": {},
   "outputs": [
    {
     "data": {
      "image/png": "[encoded data removed]",
      "text/plain": [
       "<Figure size 640x480 with 2 Axes>"
      ]
     },
     "metadata": {},
     "output_type": "display_data"
    }
   ],
   "source": [
    "fontsi = 20\n",
    "fontsi2 = 20\n",
    "\n",
    "fig = plt.figure()\n",
    "ax = fig.add_subplot()\n",
    "plt.rc('text', usetex=True)\n",
    "\n",
    "CS = plt.contourf(zet_max,zet_res,chi2.T,cmap = \"cividis\")#,  locator=ticker.LogLocator())\n",
    "cb = plt.colorbar(CS)\n",
    "plt.xlabel(r\"$z_\\mathrm{max}$\", fontsize = fontsi)\n",
    "plt.ylabel(r\"$N_z$\", fontsize = fontsi)\n",
    "cb.set_label(r'$\\Delta\\chi^2$', fontsize=fontsi)\n",
    "plt.tick_params(labelsize=fontsi2)\n",
    "\n",
    "plt.xscale(\"linear\")\n",
    "plt.yscale(\"log\")\n",
    "\n",
    "for t in cb.ax.get_yticklabels():\n",
    "    t.set_fontsize(fontsi2)\n",
    "plt.tight_layout()\n",
    "fname = \"./plots_output/chi2_zet_params_y\" + forecast_year + \".pdf\"\n",
    "plt.savefig(\"./plots_output/chi2_zet_params.pdf\")"
   ]
  },
  {
   "cell_type": "code",
   "execution_count": 47,
   "metadata": {},
   "outputs": [],
   "source": [
    "forecast_year = \"1\"\n",
    "presets = Presets(forecast_year=forecast_year, should_save_data=False)\n",
    "data = DataVectors(presets)\n",
    "cl_gc = np.array(data.galaxy_clustering_cls(include_all_correlations=True))\n",
    "cl_ggl = np.array(data.galaxy_galaxy_lensing_cls(include_all_correlations=True))\n",
    "cl_cs = np.array(data.cosmic_shear_cls(include_all_correlations=True))\n",
    "\n",
    "metric = DataVectorMetrics(presets)\n",
    "chi2_fid = metric.get_delta_chi2(cl_gc, \n",
    "                                 cl_ggl,\n",
    "                                 cl_cs,\n",
    "                                 np.zeros_like(cl_gc),\n",
    "                                 np.zeros_like(cl_ggl),\n",
    "                                 np.zeros_like(cl_cs))\n",
    "\n",
    "\n",
    "N = 50\n",
    "number_ell = np.geomspace(20.,presets.ell_max,N).astype(int)\n",
    "chi2_y1 = np.zeros(N)\n",
    "\n",
    "for i_ell, val_ell in enumerate(number_ell):\n",
    "    presets_1 = Presets(ell_num=val_ell,should_save_data=False)\n",
    "\n",
    "    data_1 = DataVectors(presets_1)\n",
    "    cl_gc_1 = np.array(data_1.galaxy_clustering_cls(include_all_correlations=True))\n",
    "    cl_ggl_1 = np.array(data_1.galaxy_galaxy_lensing_cls(include_all_correlations=True))\n",
    "    cl_cs_1 = np.array(data_1.cosmic_shear_cls(include_all_correlations=True))\n",
    "\n",
    "    metric = DataVectorMetrics(presets_1)\n",
    "    chi2_y1[i_ell] = np.abs((metric.get_delta_chi2(cl_gc_1, \n",
    "                                 cl_ggl_1,\n",
    "                                 cl_cs_1,\n",
    "                                 np.zeros_like(cl_gc_1),\n",
    "                                 np.zeros_like(cl_ggl_1),\n",
    "                                 np.zeros_like(cl_cs_1)) - chi2_fid)/chi2_fid)\n",
    "\n",
    "file = \"./data_output/chi2/chi2_number_ell_y\" + forecast_year \n",
    "np.savez(file, zet_res=zet_res, zet_max=zet_max, chi2=chi2)"
   ]
  },
  {
   "cell_type": "code",
   "execution_count": 48,
   "metadata": {},
   "outputs": [
    {
     "name": "stderr",
     "output_type": "stream",
     "text": [
      "WARNING 18: ccl_cls.c: integ_cls_limber_qag_quad(): Default GSL integration failure, attempting backup method.: GSL ERROR: roundoff error\n",
      "WARNING 18: ccl_cls.c: integ_cls_limber_qag_quad(): Default GSL integration failure, attempting backup method.: GSL ERROR: roundoff error\n",
      "WARNING 18: ccl_cls.c: integ_cls_limber_qag_quad(): Default GSL integration failure, attempting backup method.: GSL ERROR: roundoff error\n",
      "WARNING 18: ccl_cls.c: integ_cls_limber_qag_quad(): Default GSL integration failure, attempting backup method.: GSL ERROR: roundoff error\n",
      "WARNING 18: ccl_cls.c: integ_cls_limber_qag_quad(): Default GSL integration failure, attempting backup method.: GSL ERROR: roundoff error\n",
      "WARNING 18: ccl_cls.c: integ_cls_limber_qag_quad(): Default GSL integration failure, attempting backup method.: GSL ERROR: roundoff error\n",
      "WARNING 18: ccl_cls.c: integ_cls_limber_qag_quad(): Default GSL integration failure, attempting backup method.: GSL ERROR: roundoff error\n",
      "WARNING 18: ccl_cls.c: integ_cls_limber_qag_quad(): Default GSL integration failure, attempting backup method.: GSL ERROR: roundoff error\n",
      "WARNING 18: ccl_cls.c: integ_cls_limber_qag_quad(): Default GSL integration failure, attempting backup method.: GSL ERROR: roundoff error\n",
      "WARNING 18: ccl_cls.c: integ_cls_limber_qag_quad(): Default GSL integration failure, attempting backup method.: GSL ERROR: roundoff error\n",
      "WARNING 18: ccl_cls.c: integ_cls_limber_qag_quad(): Default GSL integration failure, attempting backup method.: GSL ERROR: roundoff error\n",
      "WARNING 18: ccl_cls.c: integ_cls_limber_qag_quad(): Default GSL integration failure, attempting backup method.: GSL ERROR: roundoff error\n"
     ]
    }
   ],
   "source": [
    "forecast_year = \"10\"\n",
    "presets = Presets(forecast_year=forecast_year, should_save_data=False)\n",
    "data = DataVectors(presets)\n",
    "cl_gc = np.array(data.galaxy_clustering_cls(include_all_correlations=True))\n",
    "cl_ggl = np.array(data.galaxy_galaxy_lensing_cls(include_all_correlations=True))\n",
    "cl_cs = np.array(data.cosmic_shear_cls(include_all_correlations=True))\n",
    "\n",
    "metric = DataVectorMetrics(presets)\n",
    "chi2_fid = metric.get_delta_chi2(cl_gc, \n",
    "                                 cl_ggl,\n",
    "                                 cl_cs,\n",
    "                                 np.zeros_like(cl_gc),\n",
    "                                 np.zeros_like(cl_ggl),\n",
    "                                 np.zeros_like(cl_cs))\n",
    "\n",
    "\n",
    "N = 50\n",
    "number_ell = np.geomspace(20.,presets.ell_max,N).astype(int)\n",
    "chi2_y10 = np.zeros(N)\n",
    "\n",
    "for i_ell, val_ell in enumerate(number_ell):\n",
    "    presets_1 = Presets(forecast_year=forecast_year,ell_num=val_ell,should_save_data=False)\n",
    "\n",
    "    data_1 = DataVectors(presets_1)\n",
    "    cl_gc_1 = np.array(data_1.galaxy_clustering_cls(include_all_correlations=True))\n",
    "    cl_ggl_1 = np.array(data_1.galaxy_galaxy_lensing_cls(include_all_correlations=True))\n",
    "    cl_cs_1 = np.array(data_1.cosmic_shear_cls(include_all_correlations=True))\n",
    "\n",
    "    metric = DataVectorMetrics(presets_1)\n",
    "    chi2_y10[i_ell] = np.abs((metric.get_delta_chi2(cl_gc_1, \n",
    "                                 cl_ggl_1,\n",
    "                                 cl_cs_1,\n",
    "                                 np.zeros_like(cl_gc_1),\n",
    "                                 np.zeros_like(cl_ggl_1),\n",
    "                                 np.zeros_like(cl_cs_1)) - chi2_fid)/chi2_fid)\n",
    "\n",
    "file = \"./data_output/chi2/chi2_number_ell_y\" + forecast_year \n",
    "np.savez(file, zet_res=zet_res, zet_max=zet_max, chi2=chi2)"
   ]
  },
  {
   "cell_type": "code",
   "execution_count": 51,
   "metadata": {},
   "outputs": [
    {
     "name": "stderr",
     "output_type": "stream",
     "text": [
      "<>:16: SyntaxWarning: invalid escape sequence '\\e'\n",
      "<>:16: SyntaxWarning: invalid escape sequence '\\e'\n",
      "/var/folders/4k/46233y0d3tx9bcbm7l78j0mr0000gn/T/ipykernel_63888/2262148648.py:16: SyntaxWarning: invalid escape sequence '\\e'\n",
      "  plt.xlabel(\"$\\ell$\", fontsize = fontsi)\n"
     ]
    },
    {
     "data": {
      "image/png": "[encoded data removed]",
      "text/plain": [
       "<Figure size 640x480 with 1 Axes>"
      ]
     },
     "metadata": {},
     "output_type": "display_data"
    }
   ],
   "source": [
    "fontsi = 20\n",
    "fontsi2 = 20\n",
    "fig = plt.figure()\n",
    "ax = fig.add_subplot()\n",
    "\n",
    "plt.rc('text', usetex=True)\n",
    "\n",
    "plt.loglog(number_ell, chi2_y1, color = \"blue\", lw = 2, label = r\"$\\mathrm{Year\\; 1}$\")\n",
    "plt.loglog(number_ell, chi2_y10, color = \"red\", lw = 2, label = r\"$\\mathrm{Year\\; 10}$\")\n",
    "\n",
    "plt.xlabel(\"$\\ell$\", fontsize = fontsi)\n",
    "plt.ylabel(r\"$\\mathrm{relative\\;difference\\;}\\Delta\\chi^2$\", fontsize = fontsi)\n",
    "plt.tick_params(labelsize=fontsi2)\n",
    "plt.xlim(number_ell[0],number_ell[-1])\n",
    "ax.legend( frameon = False, fontsize =fontsi, loc = \"best\")\n",
    "plt.tight_layout()\n",
    "plt.savefig(\"./plots_output/chi2_ell_num.pdf\")\n",
    "\n"
   ]
  }
 ],
 "metadata": {
  "kernelspec": {
   "display_name": "levinpower_env",
   "language": "python",
   "name": "python3"
  },
  "language_info": {
   "codemirror_mode": {
    "name": "ipython",
    "version": 3
   },
   "file_extension": ".py",
   "mimetype": "text/x-python",
   "name": "python",
   "nbconvert_exporter": "python",
   "pygments_lexer": "ipython3",
   "version": "3.12.5"
  }
 },
 "nbformat": 4,
 "nbformat_minor": 2
}
