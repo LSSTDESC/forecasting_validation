{
 "cells": [
  {
   "cell_type": "code",
   "execution_count": 3,
   "metadata": {},
   "outputs": [
    {
     "name": "stdout",
     "output_type": "stream",
     "text": [
      "I am using pyccl version 3.0.2\n"
     ]
    }
   ],
   "source": [
    "import pyccl as ccl\n",
    "print(f\"I am using pyccl version {ccl.__version__}\")\n",
    "import numpy as np\n",
    "import matplotlib.pyplot as plt\n",
    "from scripts.presets import Presets\n",
    "from scripts.data_vectors import DataVectors\n",
    "from scripts.data_vector_metrics import DataVectorMetrics\n"
   ]
  },
  {
   "cell_type": "code",
   "execution_count": 4,
   "metadata": {},
   "outputs": [
    {
     "name": "stdout",
     "output_type": "stream",
     "text": [
      "Data saved to data_output/angular_power_spectra/galaxy_clustering_correlations_y1.npy\n",
      "Data saved to data_output/angular_power_spectra/galaxy_clustering_cls_y1_zmax3.5_res300_ccl_v3.0.2.npy\n",
      "Data saved to data_output/angular_power_spectra/galaxy_galaxy_lensing_y1.npy\n",
      "Data saved to data_output/angular_power_spectra/galaxy_galaxy_lensing_cls_y1_zmax3.5_res300_ccl_v3.0.2.npy\n",
      "Data saved to data_output/angular_power_spectra/cosmic_shear_correlations_y1.npy\n",
      "Data saved to data_output/angular_power_spectra/cosmic_shear_cls_y1_zmax3.5_res300_ccl_v3.0.2.npy\n",
      "Data saved to data_output/angular_power_spectra/galaxy_clustering_correlations_y1.npy\n",
      "Data saved to data_output/angular_power_spectra/galaxy_clustering_cls_y1_zmax3.5_res5000_ccl_v3.0.2.npy\n",
      "Data saved to data_output/angular_power_spectra/galaxy_galaxy_lensing_y1.npy\n",
      "Data saved to data_output/angular_power_spectra/galaxy_galaxy_lensing_cls_y1_zmax3.5_res5000_ccl_v3.0.2.npy\n",
      "Data saved to data_output/angular_power_spectra/cosmic_shear_correlations_y1.npy\n",
      "Data saved to data_output/angular_power_spectra/cosmic_shear_cls_y1_zmax3.5_res5000_ccl_v3.0.2.npy\n",
      "0.05930870583588078\n"
     ]
    }
   ],
   "source": [
    "# This analysis will be done for a cosmology with the following parameters\n",
    "# if you want to change the cosmology, you can do it here or just run without it.\n",
    "# For now, we will keep it as is.\n",
    "#cosmo = ccl.Cosmology(Omega_c=0.27, Omega_b=0.045, h=0.67, sigma8=0.83, n_s=0.96)\n",
    "\n",
    "# The class has default values for the maximal redshift and the resolution of redshifts.\n",
    "# You can change them if you want to or run the default values.\n",
    "# Since we are investigating the impact of the resolution of redshifts,\n",
    "# we will keep the maximal redshift as is (for now) and only change the redshift resolution.\n",
    "redshift_max = 3.5\n",
    "redshift_resolution_1 = 300  # this is the first resolution of redshifts\n",
    "redshift_resolution_2 = 5000  # this is the second resolution of redshifts\n",
    "forecast_year = \"1\"\n",
    "# Please note that the redshift resolution is the number of redshifts between 0 and redshift_max.\n",
    "# Additionally, a lot of parametric sweeping is already coded into helper functions \n",
    "# so we will not need to worry about that for now.\n",
    "\n",
    "# We will also investigate ell binning but for this particular exercise,\n",
    "# we will keep the ell binning at default values.\n",
    "#ell_min = 20\n",
    "#ell_max = 2000\n",
    "#n_ell = 50\n",
    "\n",
    "# We now initialize the class by only passing the redshift information.\n",
    "presets = Presets(redshift_max=redshift_max,\n",
    "                  redshift_resolution=redshift_resolution_1,\n",
    "                  forecast_year=forecast_year)\n",
    "\n",
    "data = DataVectors(presets)\n",
    "cl_gc = np.array(data.galaxy_clustering_cls(want_all=True))\n",
    "cl_ggl = np.array(data.galaxy_galaxy_lensing_cls(want_all=True))\n",
    "cl_cs = np.array(data.cosmic_shear_cls(want_all=True))\n",
    "\n",
    "\n",
    "presets_1 = Presets(redshift_max=3.5,\n",
    "                  redshift_resolution=redshift_resolution_2,\n",
    "                  forecast_year=forecast_year)\n",
    "\n",
    "data_1 = DataVectors(presets_1)\n",
    "cl_gc_1 = np.array(data_1.galaxy_clustering_cls(want_all=True))\n",
    "cl_ggl_1 = np.array(data_1.galaxy_galaxy_lensing_cls(want_all=True))\n",
    "cl_cs_1 = np.array(data_1.cosmic_shear_cls(want_all=True))\n",
    "\n",
    "\n",
    "metric = DataVectorMetrics(presets)\n",
    "\n",
    "print(metric.get_delta_chi2(cl_gc, cl_ggl, cl_cs,cl_gc_1, cl_ggl_1, cl_cs_1))\n",
    "\n"
   ]
  },
  {
   "cell_type": "code",
   "execution_count": null,
   "metadata": {},
   "outputs": [],
   "source": []
  }
 ],
 "metadata": {
  "kernelspec": {
   "display_name": "levinpower_env",
   "language": "python",
   "name": "python3"
  },
  "language_info": {
   "codemirror_mode": {
    "name": "ipython",
    "version": 3
   },
   "file_extension": ".py",
   "mimetype": "text/x-python",
   "name": "python",
   "nbconvert_exporter": "python",
   "pygments_lexer": "ipython3",
   "version": "3.12.5"
  }
 },
 "nbformat": 4,
 "nbformat_minor": 2
}
